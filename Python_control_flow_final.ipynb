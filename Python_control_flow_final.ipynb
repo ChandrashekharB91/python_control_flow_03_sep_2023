{
 "cells": [
  {
   "cell_type": "code",
   "execution_count": 6,
   "id": "031170b0-7d2b-454b-be41-47ab5c3f9688",
   "metadata": {
    "tags": []
   },
   "outputs": [],
   "source": [
    "import pandas as pd\n",
    "import numpy as np\n",
    "import random\n",
    "import calendar\n",
    "import cmath\n",
    "import time\n",
    "import string\n",
    "import re"
   ]
  },
  {
   "cell_type": "markdown",
   "id": "e62ac34b-93ae-4560-9784-99e3429f4085",
   "metadata": {},
   "source": [
    "# <span style = \"color:orange\">Basic If-Else Statements</span>"
   ]
  },
  {
   "cell_type": "markdown",
   "id": "a7bdde7e-2fa7-480b-aa8c-313681e1b753",
   "metadata": {},
   "source": [
    "1. Write a Python program to check if a given number is positive or negative."
   ]
  },
  {
   "cell_type": "code",
   "execution_count": 2,
   "id": "50027cd2-aef5-4937-a24e-43f13e339f30",
   "metadata": {
    "tags": []
   },
   "outputs": [
    {
     "name": "stdin",
     "output_type": "stream",
     "text": [
      "Enter the number -2\n"
     ]
    },
    {
     "name": "stdout",
     "output_type": "stream",
     "text": [
      "The given number is negative\n"
     ]
    }
   ],
   "source": [
    "n = float(input(\"Enter the number\"))\n",
    "if n < 0:\n",
    "    print(\"The given number is negative\")\n",
    "elif n > 0:\n",
    "    print(\"The given number is positive\")\n",
    "else:\n",
    "    print(\"0 is neither positive nor negative\")"
   ]
  },
  {
   "cell_type": "markdown",
   "id": "086e4a1e-8a1b-4582-804c-d1a3abc941a1",
   "metadata": {},
   "source": [
    "2. Create a program that determines if a person is eligible to vote based on their age."
   ]
  },
  {
   "cell_type": "code",
   "execution_count": 3,
   "id": "811fbfd4-b4fc-4fb6-871d-2e27a701a961",
   "metadata": {
    "tags": []
   },
   "outputs": [],
   "source": [
    "def vote_eligibility(n):\n",
    "    if n < 0:\n",
    "        return \"Please enter a valid age\"\n",
    "    elif 18 <= n < 115:\n",
    "        return \"Person is eligible to vote\"\n",
    "    else:\n",
    "        return \"Person is not eligible to vote\""
   ]
  },
  {
   "cell_type": "code",
   "execution_count": 5,
   "id": "57bb691c-493d-49b2-a7bc-1545e0dc701b",
   "metadata": {
    "tags": []
   },
   "outputs": [
    {
     "name": "stdin",
     "output_type": "stream",
     "text": [
      "Enter the age of person 10\n"
     ]
    },
    {
     "name": "stdout",
     "output_type": "stream",
     "text": [
      "Person is not eligible to vote\n"
     ]
    }
   ],
   "source": [
    "n = int(input(\"Enter the age of person\"))\n",
    "eligibility = vote_eligibility(n)\n",
    "print(eligibility)"
   ]
  },
  {
   "cell_type": "code",
   "execution_count": 6,
   "id": "d13f3906-0a89-4720-a0a3-e71048d28f76",
   "metadata": {
    "tags": []
   },
   "outputs": [
    {
     "name": "stdin",
     "output_type": "stream",
     "text": [
      "Enter the age of person 18\n"
     ]
    },
    {
     "name": "stdout",
     "output_type": "stream",
     "text": [
      "Person is eligible to vote\n"
     ]
    }
   ],
   "source": [
    "n = int(input(\"Enter the age of person\"))\n",
    "eligibility = vote_eligibility(n)\n",
    "print(eligibility)"
   ]
  },
  {
   "cell_type": "markdown",
   "id": "8c362946-b64d-4923-9be8-a9ed46bff0d0",
   "metadata": {},
   "source": [
    "3. Develop a program to find the maximum of two numbers using if-else statements."
   ]
  },
  {
   "cell_type": "code",
   "execution_count": 9,
   "id": "cf4ca6e0-9bcc-4da8-9da2-f98a2362ac78",
   "metadata": {
    "tags": []
   },
   "outputs": [
    {
     "name": "stdout",
     "output_type": "stream",
     "text": [
      "4.242640687119286\n",
      "a is max\n"
     ]
    }
   ],
   "source": [
    "a = 3 * np.sqrt(2)\n",
    "b = 2 * np.sqrt(3)\n",
    "\n",
    "def max_elt(a, b):\n",
    "    if a < b:\n",
    "        return b, \"b is max\"\n",
    "    elif b < a:\n",
    "        return a, \"a is max\"\n",
    "    else:\n",
    "        return a, \"Both numbers are equal\"\n",
    "\n",
    "result, message = max_elt(a, b)\n",
    "print(result)\n",
    "print(message)"
   ]
  },
  {
   "cell_type": "markdown",
   "id": "36a8adae-3bd2-4eb4-8aa8-3e5cdbe69088",
   "metadata": {},
   "source": [
    "4. Write a Python script to classify a given year as a leap year or not."
   ]
  },
  {
   "cell_type": "code",
   "execution_count": 11,
   "id": "fccbe27e-a34d-447c-a2a0-1ec367de33f0",
   "metadata": {
    "tags": []
   },
   "outputs": [
    {
     "name": "stdin",
     "output_type": "stream",
     "text": [
      "Enter a year:  2023\n"
     ]
    },
    {
     "name": "stdout",
     "output_type": "stream",
     "text": [
      "2023 is not a leap year\n"
     ]
    }
   ],
   "source": [
    "n = int(input(\"Enter a year: \"))\n",
    "\n",
    "def leap_year(n):\n",
    "    if n <= 0:\n",
    "        return \"Enter a valid year\"\n",
    "    elif n % 400 == 0 or (n % 4 == 0 and n % 100 != 0):\n",
    "        return f\"{n} is a leap year\"\n",
    "    else:\n",
    "        return f\"{n} is not a leap year\"\n",
    "\n",
    "result = leap_year(n)\n",
    "print(result)"
   ]
  },
  {
   "cell_type": "code",
   "execution_count": 12,
   "id": "2977d07d-1d31-4bae-a537-38349fae1d1a",
   "metadata": {
    "tags": []
   },
   "outputs": [
    {
     "name": "stdin",
     "output_type": "stream",
     "text": [
      "Enter a year:  2020\n"
     ]
    },
    {
     "name": "stdout",
     "output_type": "stream",
     "text": [
      "2020 is a leap year\n"
     ]
    }
   ],
   "source": [
    "n = int(input(\"Enter a year: \"))\n",
    "result = leap_year(n)\n",
    "print(result)"
   ]
  },
  {
   "cell_type": "code",
   "execution_count": 13,
   "id": "75567584-acba-4b60-9cf3-ea5d06e2e1db",
   "metadata": {
    "tags": []
   },
   "outputs": [
    {
     "name": "stdin",
     "output_type": "stream",
     "text": [
      "Enter a year:  2022\n"
     ]
    },
    {
     "name": "stdout",
     "output_type": "stream",
     "text": [
      "2022 is not a leap year\n"
     ]
    }
   ],
   "source": [
    "n = int(input(\"Enter a year: \"))\n",
    "result = leap_year(n)\n",
    "print(result)"
   ]
  },
  {
   "cell_type": "markdown",
   "id": "2fb7407d-f38d-45da-9ba2-3a989eada380",
   "metadata": {},
   "source": [
    "5. Create a program that checks whether a character is a vowel or a consonant."
   ]
  },
  {
   "cell_type": "code",
   "execution_count": 14,
   "id": "78c00ce2-6579-497d-9b11-410eba452f16",
   "metadata": {
    "tags": []
   },
   "outputs": [],
   "source": [
    "vowel_list = ['a','e','i','o','u']\n",
    "\n",
    "def is_vowel(char):\n",
    "    if char in vowel_list:\n",
    "        return f\"{char} is a vowel\"\n",
    "    else:\n",
    "        return f\"{char} is a consonant\""
   ]
  },
  {
   "cell_type": "code",
   "execution_count": 16,
   "id": "939affdf-f133-4d71-8728-50d1ce8b5146",
   "metadata": {
    "tags": []
   },
   "outputs": [
    {
     "name": "stdin",
     "output_type": "stream",
     "text": [
      "Enter a character k\n"
     ]
    },
    {
     "name": "stdout",
     "output_type": "stream",
     "text": [
      "k is a consonant\n"
     ]
    }
   ],
   "source": [
    "char = str(input(\"Enter a character\"))\n",
    "result = is_vowel(char)\n",
    "print(result)"
   ]
  },
  {
   "cell_type": "code",
   "execution_count": 17,
   "id": "e17feee4-3d68-45d8-b6a7-668723d20c50",
   "metadata": {
    "tags": []
   },
   "outputs": [
    {
     "name": "stdin",
     "output_type": "stream",
     "text": [
      "Enter a character a\n"
     ]
    },
    {
     "name": "stdout",
     "output_type": "stream",
     "text": [
      "a is a vowel\n"
     ]
    }
   ],
   "source": [
    "char = str(input(\"Enter a character\"))\n",
    "result = is_vowel(char)\n",
    "print(result)"
   ]
  },
  {
   "cell_type": "markdown",
   "id": "e1980c3e-03a5-4a40-8c5b-408442eb824b",
   "metadata": {},
   "source": [
    "6. Implement a program to determine whether a given number is even or odd."
   ]
  },
  {
   "cell_type": "code",
   "execution_count": 18,
   "id": "0a3a16ad-6460-41c1-b79e-746c197e55d1",
   "metadata": {},
   "outputs": [],
   "source": [
    "# Define the function to check whether the number is even or odd\n",
    "def is_even_odd(n):\n",
    "    if n % 2 == 0:\n",
    "        return f\"{n} is an even number\"\n",
    "    else:\n",
    "        return f\"{n} is an odd number\""
   ]
  },
  {
   "cell_type": "code",
   "execution_count": 19,
   "id": "cf08da17-5749-4f8f-bdc9-3a4e5e2fe347",
   "metadata": {},
   "outputs": [
    {
     "name": "stdin",
     "output_type": "stream",
     "text": [
      "Enter the number 12\n"
     ]
    },
    {
     "name": "stdout",
     "output_type": "stream",
     "text": [
      "12 is an even number\n"
     ]
    }
   ],
   "source": [
    "n = int(input(\"Enter the number\"))\n",
    "result = is_even_odd(n)\n",
    "print(result)"
   ]
  },
  {
   "cell_type": "code",
   "execution_count": 20,
   "id": "d299a353-ab07-4a39-b43a-9f6a7e75da21",
   "metadata": {
    "tags": []
   },
   "outputs": [
    {
     "name": "stdin",
     "output_type": "stream",
     "text": [
      "Enter the number 5\n"
     ]
    },
    {
     "name": "stdout",
     "output_type": "stream",
     "text": [
      "5 is an odd number\n"
     ]
    }
   ],
   "source": [
    "n = int(input(\"Enter the number\"))\n",
    "result = is_even_odd(n)\n",
    "print(result)"
   ]
  },
  {
   "cell_type": "markdown",
   "id": "c1fda811-e739-4b67-b4fb-3654811173bb",
   "metadata": {},
   "source": [
    "7. Write a Python function to calculate the absolute value of a number without using the `abs()` function."
   ]
  },
  {
   "cell_type": "code",
   "execution_count": 21,
   "id": "5b47fe45-855b-4f67-9fef-f4fcac8c417e",
   "metadata": {},
   "outputs": [],
   "source": [
    "def abs_value(n):\n",
    "    if n < 0:\n",
    "        n = (-1)*n\n",
    "    if n >= 0:\n",
    "        n = 1*n\n",
    "    return n"
   ]
  },
  {
   "cell_type": "code",
   "execution_count": 22,
   "id": "ce0d17d5-4e4d-463a-a43d-15207a9a8beb",
   "metadata": {},
   "outputs": [
    {
     "name": "stdin",
     "output_type": "stream",
     "text": [
      "Enter a number -5\n"
     ]
    },
    {
     "name": "stdout",
     "output_type": "stream",
     "text": [
      "The absolute value of -5.0 is 5.0\n"
     ]
    }
   ],
   "source": [
    "n = float(input(\"Enter a number\"))\n",
    "result = abs_value(n)\n",
    "print(f\"The absolute value of {n} is\", result)"
   ]
  },
  {
   "cell_type": "code",
   "execution_count": 23,
   "id": "7444499d-6e1f-4a0a-948a-db3ccb8c5e48",
   "metadata": {},
   "outputs": [
    {
     "name": "stdin",
     "output_type": "stream",
     "text": [
      "Enter a number 0\n"
     ]
    },
    {
     "name": "stdout",
     "output_type": "stream",
     "text": [
      "The absolute value of 0.0 is 0.0\n"
     ]
    }
   ],
   "source": [
    "n = float(input(\"Enter a number\"))\n",
    "result = abs_value(n)\n",
    "print(f\"The absolute value of {n} is\", result)"
   ]
  },
  {
   "cell_type": "code",
   "execution_count": 24,
   "id": "0d2ba405-f4ce-4bbf-b53c-47f2fb3a8d22",
   "metadata": {},
   "outputs": [
    {
     "name": "stdin",
     "output_type": "stream",
     "text": [
      "Enter a number 3\n"
     ]
    },
    {
     "name": "stdout",
     "output_type": "stream",
     "text": [
      "The absolute value of 3.0 is 3.0\n"
     ]
    }
   ],
   "source": [
    "n = float(input(\"Enter a number\"))\n",
    "result = abs_value(n)\n",
    "print(f\"The absolute value of {n} is\", result)"
   ]
  },
  {
   "cell_type": "markdown",
   "id": "ad6b5286-cb16-422c-846e-d60d11cad8fd",
   "metadata": {},
   "source": [
    "8. Develop a program that determines the largest of three given numbers using if-else statements."
   ]
  },
  {
   "cell_type": "code",
   "execution_count": 25,
   "id": "42bea483-786e-4c95-a3d9-65de8511dfe5",
   "metadata": {},
   "outputs": [],
   "source": [
    "def largest_num(input_num):\n",
    "    if len(input_num) != 3: # Lets take exactly three numbers as input\n",
    "        print(\"Please enter exactly three numbers.\")\n",
    "        return None\n",
    "    try:\n",
    "        num1, num2, num3 = map(float, input_num)\n",
    "    except ValueError:\n",
    "        print(\"Please enter valid numbers.\")\n",
    "        return None\n",
    "    if num1 >= num2 and num1 >= num3:\n",
    "        return num1\n",
    "    elif num2 >= num1 and num2 >= num3:\n",
    "        return num2\n",
    "    else:\n",
    "        return num3"
   ]
  },
  {
   "cell_type": "code",
   "execution_count": 26,
   "id": "58f841af-728e-4ef4-ba6b-b802717fc610",
   "metadata": {},
   "outputs": [
    {
     "name": "stdin",
     "output_type": "stream",
     "text": [
      "Enter three numbers separated by spaces:  -1 -9 -3\n"
     ]
    },
    {
     "name": "stdout",
     "output_type": "stream",
     "text": [
      "The largest number is: -1.0\n"
     ]
    }
   ],
   "source": [
    "input_numbers = input(\"Enter three numbers separated by spaces: \").split()\n",
    "\n",
    "result = largest_num(input_numbers)\n",
    "\n",
    "if result is not None:\n",
    "    print(f\"The largest number is: {result}\")"
   ]
  },
  {
   "cell_type": "markdown",
   "id": "66bfc39f-aa1a-4192-ad0d-9e7cb247b904",
   "metadata": {},
   "source": [
    "9. Create a program that checks if a given string is a palindrome."
   ]
  },
  {
   "cell_type": "code",
   "execution_count": 27,
   "id": "efbeb79f-c596-4bdf-aecf-eaed9ee9521d",
   "metadata": {},
   "outputs": [
    {
     "name": "stdin",
     "output_type": "stream",
     "text": [
      "Enter the string level\n"
     ]
    },
    {
     "name": "stdout",
     "output_type": "stream",
     "text": [
      "Given string is palindrome\n"
     ]
    }
   ],
   "source": [
    "def is_palindrome(string):\n",
    "    \n",
    "    if string == string[::-1]:\n",
    "        return \"Given string is palindrome\"\n",
    "    else:\n",
    "        return \"Given string is not palindrome\"\n",
    "string = input(\"Enter the string\")\n",
    "result = is_palindrome(string)\n",
    "print(result)"
   ]
  },
  {
   "cell_type": "markdown",
   "id": "104c5919-bcb8-4cc8-85c2-5f4cb6232a38",
   "metadata": {},
   "source": [
    "10. Write a Python program to calculate the grade based on a student's score."
   ]
  },
  {
   "cell_type": "code",
   "execution_count": 28,
   "id": "01445970-9f89-446a-aaef-e5664e8ac5cb",
   "metadata": {},
   "outputs": [
    {
     "name": "stdin",
     "output_type": "stream",
     "text": [
      "Enter the student's score:  90\n"
     ]
    },
    {
     "name": "stdout",
     "output_type": "stream",
     "text": [
      "The student's grade is: A\n"
     ]
    }
   ],
   "source": [
    "def calculate_grade(score):\n",
    "    grade_mapping = {\n",
    "        (90, 100): 'A',\n",
    "        (80, 89): 'B',\n",
    "        (70, 79): 'C',\n",
    "        (60, 69): 'D',\n",
    "        (35, 59): 'E',\n",
    "        (0, 34): 'F'\n",
    "    }\n",
    "\n",
    "    for score_range, grade in grade_mapping.items():\n",
    "        lower_bound, upper_bound = score_range\n",
    "        if lower_bound <= score <= upper_bound:\n",
    "            return grade\n",
    "\n",
    "    return \"Invalid score. Please enter a score between 0 and 100.\"\n",
    "try:\n",
    "    score = float(input(\"Enter the student's score: \"))\n",
    "    if 0 <= score <= 100:\n",
    "        result = calculate_grade(score)\n",
    "        print(f\"The student's grade is: {result}\")\n",
    "    else:\n",
    "        print(\"Invalid score. Please enter a score between 0 and 100.\")\n",
    "except ValueError:\n",
    "    print(\"Invalid input. Please enter a valid numerical score.\")"
   ]
  },
  {
   "cell_type": "markdown",
   "id": "4ab0dd08-3b29-439f-a8e9-d824f4964612",
   "metadata": {},
   "source": [
    "# <span style = \"color:orange\">Nested If-Else Statements</span>"
   ]
  },
  {
   "cell_type": "markdown",
   "id": "2b0956fa-ee4c-4403-9e9a-a16d5d03aa87",
   "metadata": {},
   "source": [
    "11. Write a program to find the largest among three numbers using nested if-else statements."
   ]
  },
  {
   "cell_type": "code",
   "execution_count": 29,
   "id": "7a43d89e-fa80-4c53-9682-9c4e99ebd0d4",
   "metadata": {},
   "outputs": [
    {
     "name": "stdin",
     "output_type": "stream",
     "text": [
      "Enter the first number:  -10\n",
      "Enter the second number:  -20\n",
      "Enter the third number:  -30\n"
     ]
    },
    {
     "name": "stdout",
     "output_type": "stream",
     "text": [
      "The largest number is: -10.0\n"
     ]
    }
   ],
   "source": [
    "try:\n",
    "    num1 = float(input(\"Enter the first number: \"))     # Accept the three numbers as an input\n",
    "    num2 = float(input(\"Enter the second number: \"))\n",
    "    num3 = float(input(\"Enter the third number: \"))\n",
    "except ValueError:\n",
    "    print(\"Invalid input. Please enter valid numerical values.\")\n",
    "    exit()\n",
    "\n",
    "if num1 >= num2:\n",
    "    if num1 >= num3:\n",
    "        largest = num1\n",
    "    else:\n",
    "        largest = num3\n",
    "else:\n",
    "    if num2 >= num3:\n",
    "        largest = num2\n",
    "    else:\n",
    "        largest = num3\n",
    "\n",
    "print(f\"The largest number is: {largest}\")"
   ]
  },
  {
   "cell_type": "markdown",
   "id": "4f859aa6-7295-4968-a52a-12f21fcdb58f",
   "metadata": {},
   "source": [
    "12. Implement a program to determine if a triangle is equilateral, isosceles, or scalene."
   ]
  },
  {
   "cell_type": "code",
   "execution_count": 30,
   "id": "547243c0-12af-49e1-9e7f-af10b956c7b0",
   "metadata": {},
   "outputs": [
    {
     "name": "stdin",
     "output_type": "stream",
     "text": [
      "Enter the first side length:  5\n",
      "Enter the second side length:  5\n",
      "Enter the third side length:  5\n"
     ]
    },
    {
     "name": "stdout",
     "output_type": "stream",
     "text": [
      "Given triangle is equilateral\n"
     ]
    }
   ],
   "source": [
    "try:\n",
    "    side1 = float(input(\"Enter the first side length: \"))\n",
    "    side2 = float(input(\"Enter the second side length: \"))\n",
    "    side3 = float(input(\"Enter the third side length: \"))\n",
    "except ValueError:\n",
    "    print(\"Invalid input. Please enter valid numerical values.\")\n",
    "    exit()\n",
    "\n",
    "if side1 == side2 == side3:\n",
    "    print('Given triangle is equilateral')\n",
    "elif side1 == side2 or side1 == side3 or side2 == side3:\n",
    "    print('Given triangle is isosceles')\n",
    "else:\n",
    "    print('Given triangle is scalene')"
   ]
  },
  {
   "cell_type": "markdown",
   "id": "2e523a02-797e-4c7f-a629-95fd01df8bca",
   "metadata": {},
   "source": [
    "13. Develop a program that checks if a year is a leap year and also if it is a century year."
   ]
  },
  {
   "cell_type": "code",
   "execution_count": 31,
   "id": "45018244-dee5-4a66-8179-fc58d99ac233",
   "metadata": {},
   "outputs": [],
   "source": [
    "# Define a function to identify leap year or not\n",
    "def is_leap(year):\n",
    "    if year % 400 == 0:\n",
    "        return f\"{year} is a leap year and also a century year\"\n",
    "    elif year % 100 == 0 and year % 400 != 0:\n",
    "        return f\"{year} is a century year but not a leap year\"\n",
    "    elif year % 4 == 0 and year % 100 != 0:\n",
    "        return f\"{year} is a leap year but not a century year\"\n",
    "    else:\n",
    "        return f\"{year} is neither a leap year nor a century year\""
   ]
  },
  {
   "cell_type": "code",
   "execution_count": 32,
   "id": "a40b8c90-3598-4de5-8540-0e6fd4c9fc6a",
   "metadata": {},
   "outputs": [
    {
     "name": "stdin",
     "output_type": "stream",
     "text": [
      "Enter the year 1900\n"
     ]
    },
    {
     "name": "stdout",
     "output_type": "stream",
     "text": [
      "1900 is a century year but not a leap year\n"
     ]
    }
   ],
   "source": [
    "year = int(input(\"Enter the year\"))\n",
    "result = is_leap(year)\n",
    "print(result)"
   ]
  },
  {
   "cell_type": "code",
   "execution_count": 33,
   "id": "879cf8ea-7f3b-43f9-81c7-8b3d435c2c26",
   "metadata": {},
   "outputs": [
    {
     "name": "stdin",
     "output_type": "stream",
     "text": [
      "Enter the year 2100\n"
     ]
    },
    {
     "name": "stdout",
     "output_type": "stream",
     "text": [
      "2100 is a century year but not a leap year\n"
     ]
    }
   ],
   "source": [
    "year = int(input(\"Enter the year\"))\n",
    "result = is_leap(year)\n",
    "print(result)"
   ]
  },
  {
   "cell_type": "code",
   "execution_count": 34,
   "id": "4ac252a1-fd5c-493c-8e6e-cc23a1813ad0",
   "metadata": {},
   "outputs": [
    {
     "name": "stdin",
     "output_type": "stream",
     "text": [
      "Enter the year 2024\n"
     ]
    },
    {
     "name": "stdout",
     "output_type": "stream",
     "text": [
      "2024 is a leap year but not a century year\n"
     ]
    }
   ],
   "source": [
    "year = int(input(\"Enter the year\"))\n",
    "result = is_leap(year)\n",
    "print(result)"
   ]
  },
  {
   "cell_type": "markdown",
   "id": "bc579404-1169-4fc6-b516-904e98b53cfb",
   "metadata": {},
   "source": [
    "14. Write a Python script to determine if a number is positive, negative, or zero."
   ]
  },
  {
   "cell_type": "code",
   "execution_count": 35,
   "id": "3397d69e-b3a6-48bb-926c-547460c58bdd",
   "metadata": {},
   "outputs": [
    {
     "name": "stdin",
     "output_type": "stream",
     "text": [
      "Enter a number:  -5\n"
     ]
    },
    {
     "name": "stdout",
     "output_type": "stream",
     "text": [
      "-5.0 is a negative number.\n"
     ]
    }
   ],
   "source": [
    "try:\n",
    "    number = float(input(\"Enter a number: \"))\n",
    "except ValueError:\n",
    "    print(\"Invalid input. Please enter a valid numerical value.\")\n",
    "    exit()\n",
    "\n",
    "if number > 0:\n",
    "    print(f\"{number} is a positive number.\")\n",
    "elif number < 0:\n",
    "    print(f\"{number} is a negative number.\")\n",
    "else:\n",
    "    print(\"The number is zero.\")"
   ]
  },
  {
   "cell_type": "markdown",
   "id": "e79480e8-1848-47db-b4a2-52c85d0ae525",
   "metadata": {},
   "source": [
    "15. Create a program to check if a person is a teenager (between 13 and 19 years old)."
   ]
  },
  {
   "cell_type": "code",
   "execution_count": 36,
   "id": "94ca8e43-a98c-43f9-b00a-df1f95b8acd2",
   "metadata": {},
   "outputs": [
    {
     "name": "stdin",
     "output_type": "stream",
     "text": [
      "Enter the age in years 19\n"
     ]
    },
    {
     "name": "stdout",
     "output_type": "stream",
     "text": [
      "Person is a teenager\n"
     ]
    }
   ],
   "source": [
    "age = int(input(\"Enter the age in years\"))\n",
    "if 0 <= age < 110:\n",
    "    if 13 <= age <= 19:\n",
    "        print(\"Person is a teenager\")\n",
    "    else:\n",
    "        print(\"Person is not a teenager\")\n",
    "else:\n",
    "    print(\"Enter the valid age\")"
   ]
  },
  {
   "cell_type": "markdown",
   "id": "ec2d7348-f537-4895-80b2-b11c0c4533c0",
   "metadata": {},
   "source": [
    "16. Develop a program that determines the type of angle based on its measure (acute, obtuse, or right)."
   ]
  },
  {
   "cell_type": "code",
   "execution_count": 37,
   "id": "7a269ba0-959e-4689-b6b7-a94081d68eae",
   "metadata": {},
   "outputs": [],
   "source": [
    "def type_of_angle(angle):\n",
    "    angle = angle % 360  # Ensure angle is within the range 0 to 359 degrees\n",
    "\n",
    "    if angle == 0:\n",
    "        return \"Given angle is a zero angle or full rotation (360 degrees)\"\n",
    "    elif 0 < angle < 90:\n",
    "        return \"Given angle is an acute angle\"\n",
    "    elif angle == 90:\n",
    "        return \"Given angle is a right angle\"\n",
    "    elif 90 < angle < 180:\n",
    "        return \"Given angle is an obtuse angle\"\n",
    "    elif angle == 180:\n",
    "        return \"Given angle is a straight angle\"\n",
    "    elif 180 < angle < 360:\n",
    "        return \"Given angle is a reflex angle\"\n",
    "    else:\n",
    "        return \"Enter a valid angle\""
   ]
  },
  {
   "cell_type": "code",
   "execution_count": 38,
   "id": "5f88d32c-37ea-4e68-b78a-3097cacd6540",
   "metadata": {},
   "outputs": [
    {
     "name": "stdin",
     "output_type": "stream",
     "text": [
      "Enter the angle 90\n"
     ]
    },
    {
     "name": "stdout",
     "output_type": "stream",
     "text": [
      "Given angle is a right angle\n"
     ]
    }
   ],
   "source": [
    "angle = float(input(\"Enter the angle\"))\n",
    "result = type_of_angle(angle)\n",
    "print(result)"
   ]
  },
  {
   "cell_type": "code",
   "execution_count": 39,
   "id": "b9ad9a62-0c9e-4b18-a059-e467ce390e8c",
   "metadata": {},
   "outputs": [
    {
     "name": "stdin",
     "output_type": "stream",
     "text": [
      "Enter the angle 91\n"
     ]
    },
    {
     "name": "stdout",
     "output_type": "stream",
     "text": [
      "Given angle is an obtuse angle\n"
     ]
    }
   ],
   "source": [
    "angle = float(input(\"Enter the angle\"))\n",
    "result = type_of_angle(angle)\n",
    "print(result)"
   ]
  },
  {
   "cell_type": "code",
   "execution_count": 40,
   "id": "b0f04210-fc83-48b4-9335-99c33c525e19",
   "metadata": {},
   "outputs": [
    {
     "name": "stdin",
     "output_type": "stream",
     "text": [
      "Enter the angle 89.5\n"
     ]
    },
    {
     "name": "stdout",
     "output_type": "stream",
     "text": [
      "Given angle is an acute angle\n"
     ]
    }
   ],
   "source": [
    "angle = float(input(\"Enter the angle\"))\n",
    "result = type_of_angle(angle)\n",
    "print(result)"
   ]
  },
  {
   "cell_type": "markdown",
   "id": "f26d2d30-d11a-4c12-86e8-68d769a8d116",
   "metadata": {},
   "source": [
    "17. Write a Python program to calculate the roots of a quadratic equation."
   ]
  },
  {
   "cell_type": "code",
   "execution_count": 41,
   "id": "46c48cba-741e-4abd-840b-5092a9cb3bb8",
   "metadata": {},
   "outputs": [
    {
     "name": "stdin",
     "output_type": "stream",
     "text": [
      "Enter coefficients a, b, c separated by spaces:  1 -5 6\n"
     ]
    },
    {
     "name": "stdout",
     "output_type": "stream",
     "text": [
      "The roots of quadratic equation 1.0x**2 + -5.0*x + 6.0 are real: (3.0, 2.0)\n"
     ]
    }
   ],
   "source": [
    "import numpy as np\n",
    "\n",
    "input_numbers = input(\"Enter coefficients a, b, c separated by spaces: \")\n",
    "\n",
    "numbers = [float(num) for num in input_numbers.split()]\n",
    "\n",
    "a = numbers[0]\n",
    "b = numbers[1]\n",
    "c = numbers[2]\n",
    "\n",
    "# quad_eq = ax**2 + b*x + c\n",
    "# We can define a function for increased efficiency\n",
    "\n",
    "def quadratic_solver(a, b, c):\n",
    "    discriminant = b**2 - 4*a*c  # let's calculate discriminant first\n",
    "    if discriminant > 0:\n",
    "        x1 = np.round((-b + np.sqrt(discriminant)) / (2*a), 2)\n",
    "        x2 = np.round((-b - np.sqrt(discriminant)) / (2*a), 2)\n",
    "        return f\"The roots of quadratic equation {a}x**2 + {b}*x + {c} are real: {(x1, x2)}\"\n",
    "    elif discriminant == 0:\n",
    "        x1 = x2 = np.round((-b)/(2*a), 2)\n",
    "        return f\"The roots of quadratic equation {a}x**2 + {b}*x + {c} are real and equal: {(x1, x2)}\"\n",
    "    else:\n",
    "        # Calculate imaginary roots using complex numbers\n",
    "        x1 = np.round((-b + np.sqrt(abs(discriminant))*1j) / (2*a),2)\n",
    "        x2 = np.round((-b - np.sqrt(abs(discriminant))*1j) / (2*a),2)\n",
    "        return f\"The roots of quadratic equation {a}x**2 + {b}*x + {c} are complex: {(x1, x2)}\"\n",
    "\n",
    "result = quadratic_solver(a, b, c)\n",
    "print(result)"
   ]
  },
  {
   "cell_type": "markdown",
   "id": "d0b7060c-04ec-4987-9991-45ff5ce07f0d",
   "metadata": {},
   "source": [
    "18. Implement a program to determine the day of the week based on a user-provided number (1 for Monday, 2\n",
    "for Tuesday, etc.)."
   ]
  },
  {
   "cell_type": "code",
   "execution_count": 42,
   "id": "58cf2b34-04f0-478e-8765-0f6d2edf779f",
   "metadata": {},
   "outputs": [
    {
     "name": "stdin",
     "output_type": "stream",
     "text": [
      "Enter the number:  15\n"
     ]
    },
    {
     "name": "stdout",
     "output_type": "stream",
     "text": [
      "Monday\n"
     ]
    }
   ],
   "source": [
    "day_num = int(input(\"Enter the number: \"))\n",
    "day_num = day_num % 7\n",
    "\n",
    "weekday_list = ['Monday', 'Tuesday', 'Wednesday', 'Thursday', 'Friday', 'Saturday', 'Sunday']\n",
    "\n",
    "if day_num == 0:\n",
    "    # Adjusting for Sunday (7 % 7 = 0)\n",
    "    print(weekday_list[6])\n",
    "else:\n",
    "    print(weekday_list[day_num - 1])"
   ]
  },
  {
   "cell_type": "markdown",
   "id": "01ff27f3-029b-4f0d-9403-5b90dcc283dc",
   "metadata": {},
   "source": [
    "19. Create a program that determines if a year is a leap year and also if it is evenly divisible by 400."
   ]
  },
  {
   "cell_type": "code",
   "execution_count": 45,
   "id": "c717e2e4-1401-4257-8131-b4327875f1da",
   "metadata": {},
   "outputs": [
    {
     "name": "stdin",
     "output_type": "stream",
     "text": [
      "Enter a year:  2400\n"
     ]
    },
    {
     "name": "stdout",
     "output_type": "stream",
     "text": [
      "2400 is a leap year.\n"
     ]
    }
   ],
   "source": [
    "def is_leap_year(year):\n",
    "    # To check if the year is evenly divisible by 4\n",
    "    if year % 4 == 0:\n",
    "        # If the year is divisible by 100, it should also be divisible by 400 to be a leap year\n",
    "        if year % 100 == 0:\n",
    "            return year % 400 == 0\n",
    "        else:\n",
    "            return True\n",
    "    else:\n",
    "        return False\n",
    "\n",
    "# Take year as input from user\n",
    "year = int(input(\"Enter a year: \"))\n",
    "\n",
    "# Check if the entered year is a leap year\n",
    "if is_leap_year(year):\n",
    "    print(f\"{year} is a leap year.\")\n",
    "else:\n",
    "    print(f\"{year} is not a leap year.\")"
   ]
  },
  {
   "cell_type": "markdown",
   "id": "2379ea3c-58c7-4c4b-b7b5-0c32c732b215",
   "metadata": {},
   "source": [
    "20. Develop a program that checks if a given number is prime or not using nested if-else statements."
   ]
  },
  {
   "cell_type": "code",
   "execution_count": 46,
   "id": "157bb04b-3438-4cf1-b308-f7de1cb31c81",
   "metadata": {},
   "outputs": [],
   "source": [
    "def is_prime_number(n):\n",
    "    if n == 1:\n",
    "        return False\n",
    "    elif n == 2:\n",
    "        return True\n",
    "    else:\n",
    "        for i in range(2, int(np.sqrt(n)) + 1):\n",
    "            if n % i == 0:\n",
    "                return False\n",
    "        return True"
   ]
  },
  {
   "cell_type": "code",
   "execution_count": 48,
   "id": "bce840de-0e75-4e99-a819-69c1cc3858a2",
   "metadata": {},
   "outputs": [
    {
     "name": "stdin",
     "output_type": "stream",
     "text": [
      "Enter an integer 19\n"
     ]
    },
    {
     "name": "stdout",
     "output_type": "stream",
     "text": [
      "19 is a prime number\n"
     ]
    }
   ],
   "source": [
    "n = int(input(\"Enter an integer\"))\n",
    "if is_prime_number(n):\n",
    "    print(f\"{n} is a prime number\")\n",
    "else:\n",
    "    print(f\"{n} is not a prime number\")"
   ]
  },
  {
   "cell_type": "markdown",
   "id": "22981db8-44b1-4ca7-a8c5-de030853278c",
   "metadata": {},
   "source": [
    "18. Develop a program that calculates the factorial of a given number using recursion."
   ]
  },
  {
   "cell_type": "code",
   "execution_count": 49,
   "id": "de61e1f2-eaf7-4bf1-9235-347029528982",
   "metadata": {},
   "outputs": [
    {
     "name": "stdin",
     "output_type": "stream",
     "text": [
      "Enter the number:  5\n"
     ]
    },
    {
     "name": "stdout",
     "output_type": "stream",
     "text": [
      "5! = 120\n"
     ]
    }
   ],
   "source": [
    "def factorial(n):\n",
    "    if n == 0 or n == 1:\n",
    "        return 1\n",
    "    else:\n",
    "        return n * factorial(n-1)\n",
    "\n",
    "n = int(input(\"Enter the number: \"))\n",
    "\n",
    "result = factorial(n)\n",
    "\n",
    "print(f\"{n}! = {result}\")"
   ]
  },
  {
   "cell_type": "markdown",
   "id": "698092d4-7ebe-4b7c-85c5-f7edc060f0c7",
   "metadata": {},
   "source": [
    "# Elif Statements"
   ]
  },
  {
   "cell_type": "markdown",
   "id": "9dbface0-053f-46f5-b672-8df4f87609c4",
   "metadata": {},
   "source": [
    "21. Write a Python program to assign grades based on different ranges of scores using elif statements."
   ]
  },
  {
   "cell_type": "code",
   "execution_count": 51,
   "id": "c6b7d512-cb61-4b7e-98a9-e0b4d69b7c22",
   "metadata": {},
   "outputs": [
    {
     "name": "stdin",
     "output_type": "stream",
     "text": [
      "Enter your Score 70\n"
     ]
    },
    {
     "name": "stdout",
     "output_type": "stream",
     "text": [
      "You scored 70 and your grade is 'C'\n"
     ]
    }
   ],
   "source": [
    "def grading(score):\n",
    "    if 0 <= score <= 100:\n",
    "        if 0 <= score < 35:\n",
    "            return f\"You scored {score} and you are fail\"\n",
    "        elif 35 <= score <= 50:\n",
    "            return f\"You scored {score} and your grade is 'pass'\"\n",
    "        elif 50 <= score < 60:\n",
    "            return f\"You scored {score} and your grade is 'E'\" \n",
    "        elif 60 <= score < 70:\n",
    "            return f\"You scored {score} and your grade is 'D'\"\n",
    "        elif 70 <= score < 80:\n",
    "            return f\"You scored {score} and your grade is 'C'\"\n",
    "        elif 80 <= score < 90:\n",
    "            return f\"You scored {score} and your grade is 'B'\"\n",
    "        elif 90 <= score < 100:\n",
    "            return f\"You scored {score} and your grade is 'A'\"\n",
    "    else:\n",
    "        return \"Please enter a valid score\"\n",
    "\n",
    "score = int(input(\"Enter your Score\"))\n",
    "result = grading(score)\n",
    "print(result)"
   ]
  },
  {
   "cell_type": "markdown",
   "id": "45c6935d-c49a-4b04-8b0f-1faeddbe90c2",
   "metadata": {},
   "source": [
    "22. Implement a program to determine the type of a triangle based on its angles."
   ]
  },
  {
   "cell_type": "code",
   "execution_count": 52,
   "id": "36ffcc0b-6ec9-4de1-8f10-0617423bcf60",
   "metadata": {},
   "outputs": [],
   "source": [
    "def triangle_type(angle1, angle2, angle3):\n",
    "    # Check if the angles form a valid triangle\n",
    "    if angle1 + angle2 + angle3 != 180:\n",
    "        return \"Invalid input: The angles do not add up to 180 degrees.\"\n",
    "\n",
    "    # Check for the type of triangle based on angles\n",
    "    if angle1 == angle2 == angle3:\n",
    "        return \"Given triangle is an Equilateral Triangle\"\n",
    "    elif angle1 == angle2 or angle1 == angle3 or angle2 == angle3:\n",
    "        return \"Given triangle is an isosceles Triangle\"\n",
    "    else:\n",
    "        return \"Given triangle is a scalene Triangle\""
   ]
  },
  {
   "cell_type": "code",
   "execution_count": 53,
   "id": "8da1b89a-c7c5-45c5-b419-a78289a0a019",
   "metadata": {},
   "outputs": [
    {
     "name": "stdin",
     "output_type": "stream",
     "text": [
      "Enter angles A, B, C separated by spaces:  30 60 90\n"
     ]
    },
    {
     "name": "stdout",
     "output_type": "stream",
     "text": [
      "Given triangle is a scalene Triangle\n"
     ]
    }
   ],
   "source": [
    "input_angles= input(\"Enter angles A, B, C separated by spaces: \")\n",
    "\n",
    "angles = [float(angle) for angle in input_angles.split()]\n",
    "\n",
    "angle1 = angles[0]\n",
    "angle2 = angles[1]\n",
    "angle3 = angles[2]\n",
    "\n",
    "result = triangle_type(angle1, angle2, angle3)\n",
    "print(result)"
   ]
  },
  {
   "cell_type": "code",
   "execution_count": 54,
   "id": "010806c3-2031-4363-8f54-76867c52b573",
   "metadata": {},
   "outputs": [],
   "source": [
    "# Based on type of angle\n",
    "def triangle_type1(angle1, angle2, angle3):\n",
    "    # Check if the angles form a valid triangle\n",
    "    if angle1 + angle2 + angle3 != 180:\n",
    "        return \"Invalid input: The angles do not add up to 180 degrees.\"\n",
    "\n",
    "    # Check for the type of triangle based on types of angles\n",
    "    if angle1 < 90 and angle2 < 90 and angle3 < 90:\n",
    "        return \"Given triangle is an acute angled Triangle\"\n",
    "    elif angle1 == 90 or angle2 == 90 or angle3 == 90:\n",
    "        return \"Given triangle is a right angled Triangle\"\n",
    "    else:\n",
    "        return \"Given triangle is an obtuse angled Triangle\""
   ]
  },
  {
   "cell_type": "code",
   "execution_count": 55,
   "id": "5cc46496-a1c0-430a-95f5-4a0e027a5d52",
   "metadata": {},
   "outputs": [
    {
     "name": "stdin",
     "output_type": "stream",
     "text": [
      "Enter angles A, B, C separated by spaces:  30 60 90\n"
     ]
    },
    {
     "name": "stdout",
     "output_type": "stream",
     "text": [
      "Given triangle is a right angled Triangle\n"
     ]
    }
   ],
   "source": [
    "input_angles= input(\"Enter angles A, B, C separated by spaces: \")\n",
    "\n",
    "angles = [float(angle) for angle in input_angles.split()]\n",
    "\n",
    "angle1 = angles[0]\n",
    "angle2 = angles[1]\n",
    "angle3 = angles[2]\n",
    "\n",
    "result = triangle_type1(angle1, angle2, angle3)\n",
    "print(result)"
   ]
  },
  {
   "cell_type": "markdown",
   "id": "d1a7bb2a-738e-44a2-8322-f11b720c5627",
   "metadata": {},
   "source": [
    "23. Develop a program to categorize a given person's BMI into underweight, normal, overweight, or obese using\n",
    "elif statements."
   ]
  },
  {
   "cell_type": "code",
   "execution_count": 56,
   "id": "38071584-3958-41a9-b0de-2c7117ea157a",
   "metadata": {},
   "outputs": [
    {
     "name": "stdin",
     "output_type": "stream",
     "text": [
      "Enter your height and weight 1.8 72\n"
     ]
    },
    {
     "name": "stdout",
     "output_type": "stream",
     "text": [
      "Your BMI is: 22.22222222222222\n",
      "Your weight is Normal\n"
     ]
    }
   ],
   "source": [
    "def calculate_bmi(height, weight):\n",
    "    bmi = weight / (height**2)\n",
    "    return bmi\n",
    "\n",
    "inputs= input(\"Enter your height and weight\")\n",
    "\n",
    "X = [float(num) for num in inputs.split()]\n",
    "\n",
    "height = X[0]\n",
    "weight = X[1]\n",
    "\n",
    "bmi = calculate_bmi(height, weight)\n",
    "print(\"Your BMI is:\", bmi)\n",
    "\n",
    "def categorize_bmi(bmi):\n",
    "    if bmi < 18.5:\n",
    "        return \"You are Underweight\"\n",
    "    elif 18.5 <= bmi < 25:\n",
    "        return \"Your weight is Normal\"\n",
    "    elif 25 <= bmi < 30:\n",
    "        return \"You are Overweight\"\n",
    "    else:\n",
    "        return \"You are Obese\"\n",
    "\n",
    "result = categorize_bmi(bmi)\n",
    "print(result)"
   ]
  },
  {
   "cell_type": "markdown",
   "id": "f7c73aa7-bfed-4f0b-a7ac-b5462a00d92f",
   "metadata": {},
   "source": [
    "24. Create a program that determines whether a given number is positive, negative, or zero using elif\n",
    "statements."
   ]
  },
  {
   "cell_type": "code",
   "execution_count": 58,
   "id": "15b558b1-a5ed-49ee-b4a1-de2985f60fb5",
   "metadata": {},
   "outputs": [
    {
     "name": "stdin",
     "output_type": "stream",
     "text": [
      "Enter a number -1\n"
     ]
    },
    {
     "name": "stdout",
     "output_type": "stream",
     "text": [
      "-1.0 is negative\n"
     ]
    }
   ],
   "source": [
    "def num_type(n):\n",
    "    if n < 0:\n",
    "        return f\"{n} is negative\"\n",
    "    elif n > 0:\n",
    "        return f\"{n} is positive\"\n",
    "    else:\n",
    "        return f\"{n} is zero\"\n",
    "n = float(input(\"Enter a number\"))\n",
    "result = num_type(n)\n",
    "print(result)"
   ]
  },
  {
   "cell_type": "markdown",
   "id": "0af00484-65be-4635-9f92-72c13b40fb8b",
   "metadata": {},
   "source": [
    "25. Write a Python script to determine the type of a character (uppercase, lowercase, or special) using elif\n",
    "statements."
   ]
  },
  {
   "cell_type": "code",
   "execution_count": 59,
   "id": "c8ff6f2a-4be6-454b-ba9a-da29670d917b",
   "metadata": {},
   "outputs": [],
   "source": [
    "def type_char(char):\n",
    "    if char.islower():\n",
    "        return f\"{char} is a lowercase character\"\n",
    "    elif char.isupper():\n",
    "        return f\"{char} is an uppercase character\"\n",
    "    elif char.isdigit():\n",
    "        return f\"{char} is a number\"\n",
    "    else:\n",
    "        return f\"{char} is a special character\""
   ]
  },
  {
   "cell_type": "code",
   "execution_count": 60,
   "id": "5d854f92-378f-4590-aad9-252d9c007d46",
   "metadata": {},
   "outputs": [
    {
     "name": "stdin",
     "output_type": "stream",
     "text": [
      "Enter the character A\n"
     ]
    },
    {
     "name": "stdout",
     "output_type": "stream",
     "text": [
      "A is an uppercase character\n"
     ]
    }
   ],
   "source": [
    "char = input(\"Enter the character\")\n",
    "result = type_char(char)\n",
    "print(result)"
   ]
  },
  {
   "cell_type": "code",
   "execution_count": 61,
   "id": "0d311534-27f9-45e1-8a7e-8fdb7f56965c",
   "metadata": {},
   "outputs": [
    {
     "name": "stdin",
     "output_type": "stream",
     "text": [
      "Enter the character a\n"
     ]
    },
    {
     "name": "stdout",
     "output_type": "stream",
     "text": [
      "a is a lowercase character\n"
     ]
    }
   ],
   "source": [
    "char = input(\"Enter the character\")\n",
    "result = type_char(char)\n",
    "print(result)"
   ]
  },
  {
   "cell_type": "code",
   "execution_count": 62,
   "id": "d69df811-6974-4b07-ad08-c40585ce9a99",
   "metadata": {},
   "outputs": [
    {
     "name": "stdin",
     "output_type": "stream",
     "text": [
      "Enter the character #\n"
     ]
    },
    {
     "name": "stdout",
     "output_type": "stream",
     "text": [
      "# is a special character\n"
     ]
    }
   ],
   "source": [
    "char = input(\"Enter the character\")\n",
    "result = type_char(char)\n",
    "print(result)"
   ]
  },
  {
   "cell_type": "code",
   "execution_count": 63,
   "id": "07beaf7e-c61d-4553-9462-8474a1bd61ad",
   "metadata": {},
   "outputs": [
    {
     "name": "stdin",
     "output_type": "stream",
     "text": [
      "Enter the character 1\n"
     ]
    },
    {
     "name": "stdout",
     "output_type": "stream",
     "text": [
      "1 is a number\n"
     ]
    }
   ],
   "source": [
    "char = input(\"Enter the character\")\n",
    "result = type_char(char)\n",
    "print(result)"
   ]
  },
  {
   "cell_type": "markdown",
   "id": "41d8ddc3-a973-457b-9249-8bdb4148c4b3",
   "metadata": {},
   "source": [
    "26. Implement a program to calculate the discounted price based on different purchase amounts using elif statements."
   ]
  },
  {
   "cell_type": "code",
   "execution_count": 64,
   "id": "9245e92c-62d4-4d62-84df-9229adf6e109",
   "metadata": {},
   "outputs": [
    {
     "name": "stdin",
     "output_type": "stream",
     "text": [
      "Enter the purchase amount:  250\n"
     ]
    },
    {
     "name": "stdout",
     "output_type": "stream",
     "text": [
      "The final price of the product is: rupees 225.0\n"
     ]
    }
   ],
   "source": [
    "def price_calc(purchase_amt):\n",
    "    if purchase_amt == 250:\n",
    "        price = np.round((90/100) * purchase_amt)\n",
    "    elif purchase_amt > 200:\n",
    "        price = np.round((95/100) * purchase_amt)\n",
    "    elif 150 <= purchase_amt <= 200:\n",
    "        price = np.round((97.5/100) * purchase_amt)\n",
    "    elif purchase_amt < 150:\n",
    "        return \"Please input a minimum amount of rupees 150\"\n",
    "    else:\n",
    "        price = purchase_amt  # Default price if none of the conditions are met\n",
    "    return price\n",
    "\n",
    "purchase_amt = float(input(\"Enter the purchase amount: \"))\n",
    "final_price = price_calc(purchase_amt)\n",
    "\n",
    "if isinstance(final_price, str):\n",
    "    print(final_price)\n",
    "else:\n",
    "    print(f\"The final price of the product is: rupees {final_price}\")"
   ]
  },
  {
   "cell_type": "markdown",
   "id": "831ded7e-40e6-462b-b040-d05ecc40ba41",
   "metadata": {},
   "source": [
    "27. Develop a program to calculate the electricity bill based on different consumption slabs using elif\n",
    "statements."
   ]
  },
  {
   "cell_type": "code",
   "execution_count": 65,
   "id": "804efa1d-2046-4a55-9b05-018540a41358",
   "metadata": {},
   "outputs": [
    {
     "name": "stdin",
     "output_type": "stream",
     "text": [
      "Enter the units 90\n"
     ]
    },
    {
     "name": "stdout",
     "output_type": "stream",
     "text": [
      "Your electricity consumption for this month is 90.0 & bill for current month is rupees 640.0\n"
     ]
    }
   ],
   "source": [
    "# Assuming some fixed amount may be taken by electricity distribution company\n",
    "fixed_amt = 100\n",
    "def electricity_bill_calc(unit):\n",
    "    if 0 <= unit <= 100:\n",
    "        bill = fixed_amt + unit*6\n",
    "    elif 100 < unit <= 300:\n",
    "        bill = fixed_amt + unit*7.5\n",
    "    elif 300 < unit <= 500:\n",
    "        bill = fixed_amt + unit*8.5\n",
    "    else:\n",
    "        bill = fixed_amt + unit*9.5\n",
    "    return bill\n",
    "\n",
    "unit = float(input(\"Enter the units\"))\n",
    "bill = electricity_bill_calc(unit)\n",
    "print(f\"Your electricity consumption for this month is {unit} & bill for current month is rupees {bill}\")"
   ]
  },
  {
   "cell_type": "markdown",
   "id": "730cfae0-5f04-4000-965e-a11af2bdeac8",
   "metadata": {},
   "source": [
    "28. Create a program to determine the type of quadrilateral based on its angles and sides using elif\n",
    "    statements."
   ]
  },
  {
   "cell_type": "code",
   "execution_count": 73,
   "id": "41ec9a87-2895-4d86-9a93-7a9e09c55585",
   "metadata": {},
   "outputs": [
    {
     "name": "stdin",
     "output_type": "stream",
     "text": [
      "Enter angle 1:  90\n",
      "Enter angle 2:  90\n",
      "Enter angle 3:  90\n",
      "Enter angle 4:  90\n",
      "Enter side 1:  4\n",
      "Enter side 2:  4\n",
      "Enter side 3:  4\n",
      "Enter side 4:  4\n"
     ]
    },
    {
     "name": "stdout",
     "output_type": "stream",
     "text": [
      "The quadrilateral is a square.\n"
     ]
    }
   ],
   "source": [
    "def identify_quadrilateral(angles, sides):\n",
    "    num_angles = len(angles)\n",
    "    num_sides = len(sides)\n",
    "\n",
    "    if num_angles == 4 and num_sides == 4:\n",
    "        if all(angle == 90 for angle in angles):\n",
    "            if all(side1 == side2 for side1, side2 in zip(sides, sides[1:])):\n",
    "                print(\"The quadrilateral is a square.\")\n",
    "            elif sides[0] == sides[2] and sides[1] == sides[3]:\n",
    "                print(\"The quadrilateral is a rectangle.\")\n",
    "            else:\n",
    "                print(\"The quadrilateral is a parallelogram.\")\n",
    "        elif all(angle == 60 for angle in angles):\n",
    "            if all(side == sides[0] for side in sides):\n",
    "                print(\"The quadrilateral is a rhombus.\")\n",
    "            else:\n",
    "                print(\"The quadrilateral is a kite.\")\n",
    "        else:\n",
    "            print(\"The quadrilateral is a convex quadrilateral.\")\n",
    "    else:\n",
    "        print(\"Invalid input. A quadrilateral must have 4 angles and 4 sides.\")\n",
    "\n",
    "angles = [int(input(f\"Enter angle {i + 1}: \")) for i in range(4)]\n",
    "sides = [float(input(f\"Enter side {i + 1}: \")) for i in range(4)]\n",
    "\n",
    "# Identify the type of quadrilateral\n",
    "identify_quadrilateral(angles, sides)"
   ]
  },
  {
   "cell_type": "markdown",
   "id": "4fd7f9b2-68d3-4671-9904-2e8d637d6a32",
   "metadata": {},
   "source": [
    "29. Write a Python script to determine the season based on a user-provided month using elif statements."
   ]
  },
  {
   "cell_type": "code",
   "execution_count": 74,
   "id": "77c3ea82-51f9-4d36-a56b-32bc4fe2b58f",
   "metadata": {},
   "outputs": [
    {
     "name": "stdin",
     "output_type": "stream",
     "text": [
      "Enter the first three letters of the month:  jan\n"
     ]
    },
    {
     "name": "stdout",
     "output_type": "stream",
     "text": [
      "Season is 'Winter'\n"
     ]
    }
   ],
   "source": [
    "# Indian seasons are considered\n",
    "def season_identifier(month):\n",
    "    month = month.lower()\n",
    "    if month in ['nov','dec','jan','feb']:\n",
    "        return \"Season is 'Winter'\"\n",
    "    elif month in ['mar','apr','may','jun']:\n",
    "        return \"Season is 'Summer'\"\n",
    "    else:\n",
    "        return \"Season is 'Monsoon'\"\n",
    "month = str(input(\"Enter the first three letters of the month: \"))\n",
    "season = season_identifier(month)\n",
    "print(season)"
   ]
  },
  {
   "cell_type": "markdown",
   "id": "e24bfece-736a-4158-b588-15062968aa67",
   "metadata": {},
   "source": [
    "30. Implement a program to determine the type of a year (leap or common) and month (30 or 31 days) using\n",
    "elif statements."
   ]
  },
  {
   "cell_type": "code",
   "execution_count": 77,
   "id": "51e2edcf-7643-4426-bbfc-70daaa55355e",
   "metadata": {},
   "outputs": [],
   "source": [
    "def is_leap_year(year):\n",
    "    return (year % 4 == 0 and year % 100 != 0) or (year % 400 == 0)\n",
    "\n",
    "def days_in_month(month, year):\n",
    "    if month in {1, 3, 5, 7, 8, 10, 12}:\n",
    "        return 31\n",
    "    elif month in {4, 6, 9, 11}:\n",
    "        return 30\n",
    "    elif month == 2:\n",
    "        return 29 if is_leap_year(year) else 28\n",
    "    else:\n",
    "        return -1"
   ]
  },
  {
   "cell_type": "code",
   "execution_count": 79,
   "id": "c1602437-dee0-4d90-aef4-3d28543304c7",
   "metadata": {},
   "outputs": [
    {
     "name": "stdin",
     "output_type": "stream",
     "text": [
      "Enter the year:  2023\n",
      "Enter the month (1-12):  12\n"
     ]
    },
    {
     "name": "stdout",
     "output_type": "stream",
     "text": [
      "The year 2023 is a not a leap year year.\n",
      "The month Dec has 31 days.\n"
     ]
    }
   ],
   "source": [
    "year = int(input(\"Enter the year: \"))\n",
    "month = int(input(\"Enter the month (1-12): \"))\n",
    "month_map = {1: 'Jan', 2: 'Feb', 3: 'Mar', 4: 'Apr', 5: 'May', 6: 'Jun', 7: 'Jul', 8: 'Aug', 9: 'Sep', 10: 'Oct', 11: 'Nov', 12: 'Dec'}\n",
    "\n",
    "leap_year = \"leap year\" if is_leap_year(year) else \"not a leap year\"\n",
    "days = days_in_month(month, year)\n",
    "\n",
    "if days == -1 or month not in month_map:\n",
    "    print(\"Invalid month. Please enter a month between 1 and 12.\")\n",
    "else:\n",
    "    month_name = month_map[month]\n",
    "    print(f\"The year {year} is a {leap_year} year.\")\n",
    "    print(f\"The month {month_name} has {days} days.\")"
   ]
  },
  {
   "cell_type": "markdown",
   "id": "41cf64dc-9a51-4530-99b7-4817c79d9cbb",
   "metadata": {},
   "source": [
    "# Basic Level"
   ]
  },
  {
   "cell_type": "markdown",
   "id": "a4264ae9-fa89-401d-beaf-04546016c79b",
   "metadata": {},
   "source": [
    "1. Write a Python program that checks if a given number is positive, negative, or zero."
   ]
  },
  {
   "cell_type": "code",
   "execution_count": 80,
   "id": "8aed2b55-8d80-4056-af24-c7d075c9cf36",
   "metadata": {
    "tags": []
   },
   "outputs": [
    {
     "name": "stdin",
     "output_type": "stream",
     "text": [
      "Enter the number -6\n"
     ]
    },
    {
     "name": "stdout",
     "output_type": "stream",
     "text": [
      "The given number is negative\n"
     ]
    }
   ],
   "source": [
    "n = float(input(\"Enter the number\"))\n",
    "if n < 0:\n",
    "    print(\"The given number is negative\")\n",
    "elif n > 0:\n",
    "    print(\"The given number is positive\")\n",
    "else:\n",
    "    print(\"0 is neither positive nor negative i.e. number is zero\")"
   ]
  },
  {
   "cell_type": "markdown",
   "id": "f2c24f69-d727-4de4-a1b4-acdd912ec917",
   "metadata": {},
   "source": [
    "2. Create a program to determine if a person is eligible to vote based on their age."
   ]
  },
  {
   "cell_type": "code",
   "execution_count": 81,
   "id": "240ab2c4-6c0e-48b9-9ab2-6d850f2a9dd0",
   "metadata": {},
   "outputs": [],
   "source": [
    "def vote_eligibility(n):\n",
    "    if n < 0:\n",
    "        return \"Please enter a valid age\"\n",
    "    elif 18 <= n < 115:\n",
    "        return \"Person is eligible to vote\"\n",
    "    else:\n",
    "        return \"Person is not eligible to vote\""
   ]
  },
  {
   "cell_type": "code",
   "execution_count": 82,
   "id": "c1df2ca6-2c6a-405d-b76d-65692e6a1b4b",
   "metadata": {
    "tags": []
   },
   "outputs": [
    {
     "name": "stdin",
     "output_type": "stream",
     "text": [
      "Enter the age of person 10\n"
     ]
    },
    {
     "name": "stdout",
     "output_type": "stream",
     "text": [
      "Person is not eligible to vote\n"
     ]
    }
   ],
   "source": [
    "n = int(input(\"Enter the age of person\"))\n",
    "eligibility = vote_eligibility(n)\n",
    "print(eligibility)"
   ]
  },
  {
   "cell_type": "code",
   "execution_count": 83,
   "id": "d1ad5a91-5cf9-4f78-88ff-a2af55bbca0f",
   "metadata": {
    "tags": []
   },
   "outputs": [
    {
     "name": "stdin",
     "output_type": "stream",
     "text": [
      "Enter the age of person 19\n"
     ]
    },
    {
     "name": "stdout",
     "output_type": "stream",
     "text": [
      "Person is eligible to vote\n"
     ]
    }
   ],
   "source": [
    "n = int(input(\"Enter the age of person\"))\n",
    "eligibility = vote_eligibility(n)\n",
    "print(eligibility)"
   ]
  },
  {
   "cell_type": "markdown",
   "id": "8549237a-00da-4fc9-b9ba-7cdee8457202",
   "metadata": {},
   "source": [
    "3. Write a program to find the maximum of two given numbers using conditional statements."
   ]
  },
  {
   "cell_type": "code",
   "execution_count": 84,
   "id": "5012ddfc-6613-4fed-b81b-145319501b6a",
   "metadata": {},
   "outputs": [
    {
     "name": "stdout",
     "output_type": "stream",
     "text": [
      "4.242640687119286\n",
      "a is max\n"
     ]
    }
   ],
   "source": [
    "a = 3 * np.sqrt(2)\n",
    "b = 2 * np.sqrt(3)\n",
    "\n",
    "def max_elt(a, b):\n",
    "    if a < b:\n",
    "        return b, \"b is max\"\n",
    "    elif b < a:\n",
    "        return a, \"a is max\"\n",
    "    else:\n",
    "        return a, \"Both numbers are equal\"\n",
    "\n",
    "result, message = max_elt(a, b)\n",
    "print(result)\n",
    "print(message)"
   ]
  },
  {
   "cell_type": "markdown",
   "id": "ca6e60e4-00c6-4923-bd24-adb5eebdfeee",
   "metadata": {},
   "source": [
    "4. Develop a program that calculates the grade of a student based on their exam score."
   ]
  },
  {
   "cell_type": "code",
   "execution_count": 85,
   "id": "af3c8247-4053-413a-a1f4-4bb3341338a2",
   "metadata": {},
   "outputs": [
    {
     "name": "stdin",
     "output_type": "stream",
     "text": [
      "Enter the student's score:  50\n"
     ]
    },
    {
     "name": "stdout",
     "output_type": "stream",
     "text": [
      "The student's grade is: E\n"
     ]
    }
   ],
   "source": [
    "def calculate_grade(score):\n",
    "    grade_mapping = {\n",
    "        (90, 100): 'A',\n",
    "        (80, 89): 'B',\n",
    "        (70, 79): 'C',\n",
    "        (60, 69): 'D',\n",
    "        (35, 59): 'E',\n",
    "        (0, 34): 'F'\n",
    "    }\n",
    "\n",
    "    for score_range, grade in grade_mapping.items():\n",
    "        lower_bound, upper_bound = score_range\n",
    "        if lower_bound <= score <= upper_bound:\n",
    "            return grade\n",
    "\n",
    "    return \"Invalid score. Please enter a score between 0 and 100.\"\n",
    "try:\n",
    "    score = float(input(\"Enter the student's score: \"))\n",
    "    if 0 <= score <= 100:\n",
    "        result = calculate_grade(score)\n",
    "        print(f\"The student's grade is: {result}\")\n",
    "    else:\n",
    "        print(\"Invalid score. Please enter a score between 0 and 100.\")\n",
    "except ValueError:\n",
    "    print(\"Invalid input. Please enter a valid numerical score.\")"
   ]
  },
  {
   "cell_type": "markdown",
   "id": "1a779f24-0299-4810-87d3-fc57c9274a99",
   "metadata": {},
   "source": [
    "5. Create a program that checks if a year is a leap year or not."
   ]
  },
  {
   "cell_type": "code",
   "execution_count": 86,
   "id": "b5aed765-f8c5-4e0b-b088-2c88adbdb8d5",
   "metadata": {
    "tags": []
   },
   "outputs": [
    {
     "name": "stdin",
     "output_type": "stream",
     "text": [
      "Enter a year:  2024\n"
     ]
    },
    {
     "name": "stdout",
     "output_type": "stream",
     "text": [
      "2024 is a leap year\n"
     ]
    }
   ],
   "source": [
    "n = int(input(\"Enter a year: \"))\n",
    "\n",
    "def leap_year(n):\n",
    "    if n <= 0:\n",
    "        return \"Enter a valid year\"\n",
    "    elif n % 400 == 0 or (n % 4 == 0 and n % 100 != 0):\n",
    "        return f\"{n} is a leap year\"\n",
    "    else:\n",
    "        return f\"{n} is not a leap year\"\n",
    "\n",
    "result = leap_year(n)\n",
    "print(result)"
   ]
  },
  {
   "cell_type": "code",
   "execution_count": 87,
   "id": "633241e0-7d0f-4306-a3dc-4171fe12a3e1",
   "metadata": {
    "tags": []
   },
   "outputs": [
    {
     "name": "stdin",
     "output_type": "stream",
     "text": [
      "Enter a year:  2023\n"
     ]
    },
    {
     "name": "stdout",
     "output_type": "stream",
     "text": [
      "2023 is not a leap year\n"
     ]
    }
   ],
   "source": [
    "n = int(input(\"Enter a year: \"))\n",
    "result = leap_year(n)\n",
    "print(result)"
   ]
  },
  {
   "cell_type": "code",
   "execution_count": 88,
   "id": "5d431878-81bd-4d7b-92a1-178f55508c07",
   "metadata": {
    "tags": []
   },
   "outputs": [
    {
     "name": "stdin",
     "output_type": "stream",
     "text": [
      "Enter a year:  0\n"
     ]
    },
    {
     "name": "stdout",
     "output_type": "stream",
     "text": [
      "Enter a valid year\n"
     ]
    }
   ],
   "source": [
    "n = int(input(\"Enter a year: \"))\n",
    "result = leap_year(n)\n",
    "print(result)"
   ]
  },
  {
   "cell_type": "markdown",
   "id": "57f4d260-6fc6-4e29-ab08-c4563fb9714c",
   "metadata": {},
   "source": [
    "6. Write a program to classify a triangle based on its sides' lengths."
   ]
  },
  {
   "cell_type": "code",
   "execution_count": 89,
   "id": "3a8af7c9-4bf6-40c0-ba3c-0122eb915aa2",
   "metadata": {},
   "outputs": [
    {
     "name": "stdin",
     "output_type": "stream",
     "text": [
      "Enter the first side length:  4\n",
      "Enter the second side length:  4\n",
      "Enter the third side length:  5\n"
     ]
    },
    {
     "name": "stdout",
     "output_type": "stream",
     "text": [
      "Given triangle is isosceles\n"
     ]
    }
   ],
   "source": [
    "try:\n",
    "    side1 = float(input(\"Enter the first side length: \"))\n",
    "    side2 = float(input(\"Enter the second side length: \"))\n",
    "    side3 = float(input(\"Enter the third side length: \"))\n",
    "except ValueError:\n",
    "    print(\"Invalid input. Please enter valid numerical values.\")\n",
    "    exit()\n",
    "\n",
    "if side1 == side2 == side3:\n",
    "    print('Given triangle is equilateral')\n",
    "elif side1 == side2 or side1 == side3 or side2 == side3:\n",
    "    print('Given triangle is isosceles')\n",
    "else:\n",
    "    print('Given triangle is scalene')"
   ]
  },
  {
   "cell_type": "markdown",
   "id": "1b1a818b-7b11-4367-9cf4-1faf65f8e1d6",
   "metadata": {},
   "source": [
    "7. Build a program that determines the largest of three given numbers."
   ]
  },
  {
   "cell_type": "code",
   "execution_count": 90,
   "id": "04364d8f-bab3-4add-925d-15dba36f7c72",
   "metadata": {},
   "outputs": [],
   "source": [
    "def largest_num(input_num):\n",
    "    if len(input_num) != 3: # Lets take exactly three numbers as input\n",
    "        print(\"Please enter exactly three numbers.\")\n",
    "        return None\n",
    "    try:\n",
    "        num1, num2, num3 = map(float, input_num)\n",
    "    except ValueError:\n",
    "        print(\"Please enter valid numbers.\")\n",
    "        return None\n",
    "    if num1 >= num2 and num1 >= num3:\n",
    "        return num1\n",
    "    elif num2 >= num1 and num2 >= num3:\n",
    "        return num2\n",
    "    else:\n",
    "        return num3"
   ]
  },
  {
   "cell_type": "code",
   "execution_count": 91,
   "id": "dbaf949c-1b1f-4685-9958-bfb919930f81",
   "metadata": {},
   "outputs": [
    {
     "name": "stdin",
     "output_type": "stream",
     "text": [
      "Enter three numbers separated by spaces:  1 -2 3\n"
     ]
    },
    {
     "name": "stdout",
     "output_type": "stream",
     "text": [
      "The largest number is: 3.0\n"
     ]
    }
   ],
   "source": [
    "input_numbers = input(\"Enter three numbers separated by spaces: \").split()\n",
    "\n",
    "result = largest_num(input_numbers)\n",
    "\n",
    "if result is not None:\n",
    "    print(f\"The largest number is: {result}\")"
   ]
  },
  {
   "cell_type": "markdown",
   "id": "b0f66351-52e5-41da-aec2-2ec4bb33660c",
   "metadata": {},
   "source": [
    "8. Develop a program that checks whether a character is a vowel or a consonant."
   ]
  },
  {
   "cell_type": "code",
   "execution_count": 92,
   "id": "f2456e31-9a40-46a3-9e47-97f930a9d7c2",
   "metadata": {
    "tags": []
   },
   "outputs": [],
   "source": [
    "vowel_list = ['a','e','i','o','u']\n",
    "\n",
    "def is_vowel(char):\n",
    "    if char in vowel_list:\n",
    "        return f\"{char} is a vowel\"\n",
    "    else:\n",
    "        return f\"{char} is a consonant\""
   ]
  },
  {
   "cell_type": "code",
   "execution_count": 93,
   "id": "d9b45538-730a-42a6-b408-a510061e67f9",
   "metadata": {
    "tags": []
   },
   "outputs": [
    {
     "name": "stdin",
     "output_type": "stream",
     "text": [
      "Enter a character i\n"
     ]
    },
    {
     "name": "stdout",
     "output_type": "stream",
     "text": [
      "i is a vowel\n"
     ]
    }
   ],
   "source": [
    "char = str(input(\"Enter a character\"))\n",
    "result = is_vowel(char)\n",
    "print(result)"
   ]
  },
  {
   "cell_type": "code",
   "execution_count": 94,
   "id": "13b398a3-7d70-48a5-baf5-891ead237f45",
   "metadata": {
    "tags": []
   },
   "outputs": [
    {
     "name": "stdin",
     "output_type": "stream",
     "text": [
      "Enter a character l\n"
     ]
    },
    {
     "name": "stdout",
     "output_type": "stream",
     "text": [
      "l is a consonant\n"
     ]
    }
   ],
   "source": [
    "char = str(input(\"Enter a character\"))\n",
    "result = is_vowel(char)\n",
    "print(result)"
   ]
  },
  {
   "cell_type": "markdown",
   "id": "b09d6547-63f1-4c79-a0ba-53559331a169",
   "metadata": {},
   "source": [
    "9. Create a program to calculate the total cost of a shopping cart based on discounts."
   ]
  },
  {
   "cell_type": "code",
   "execution_count": 95,
   "id": "1e784577-8670-45cd-a3f3-d1b3692033fe",
   "metadata": {
    "tags": []
   },
   "outputs": [
    {
     "name": "stdout",
     "output_type": "stream",
     "text": [
      "Receipt:\n",
      "Item 1 - $20 x 2\n",
      "Item 2 - $30 x 1\n",
      "Total: $70\n",
      "After 10% discount:\n",
      "Receipt:\n",
      "Item 1 - $18.0 x 2\n",
      "Item 2 - $27.0 x 1\n",
      "Total: $63.0\n"
     ]
    }
   ],
   "source": [
    "class ShoppingCart:\n",
    "    def __init__(self):\n",
    "        self.items = []\n",
    "\n",
    "    def add_item(self, item_name, price, quantity=1):\n",
    "        self.items.append({\n",
    "            'name': item_name,\n",
    "            'price': price,\n",
    "            'quantity': quantity\n",
    "        })\n",
    "\n",
    "    def calculate_total(self):\n",
    "        total = 0\n",
    "        for item in self.items:\n",
    "            total += item['price'] * item['quantity']\n",
    "        return total\n",
    "\n",
    "    def apply_discount(self, discount_percentage):\n",
    "        if 0 <= discount_percentage <= 100:\n",
    "            discount_factor = 1 - discount_percentage / 100\n",
    "            for item in self.items:\n",
    "                item['price'] *= discount_factor\n",
    "\n",
    "    def display_receipt(self):\n",
    "        print(\"Receipt:\")\n",
    "        for item in self.items:\n",
    "            print(f\"{item['name']} - ${item['price']} x {item['quantity']}\")\n",
    "        print(f\"Total: ${self.calculate_total()}\")\n",
    "\n",
    "cart = ShoppingCart()\n",
    "cart.add_item(\"Item 1\", 20, 2)\n",
    "cart.add_item(\"Item 2\", 30, 1)\n",
    "\n",
    "cart.display_receipt()\n",
    "\n",
    "discount_percentage = 10\n",
    "cart.apply_discount(discount_percentage)\n",
    "\n",
    "print(f\"After {discount_percentage}% discount:\")\n",
    "cart.display_receipt()"
   ]
  },
  {
   "cell_type": "markdown",
   "id": "f613d71e-9fd0-4c12-88f3-f0e39dbb6634",
   "metadata": {},
   "source": [
    "10. Write a program that checks if a given number is even or odd."
   ]
  },
  {
   "cell_type": "code",
   "execution_count": 96,
   "id": "0a6b08cb-adc4-4246-b67e-2a98e26ca69d",
   "metadata": {},
   "outputs": [],
   "source": [
    "# Define the function to check whether the number is even or odd\n",
    "def is_even_odd(n):\n",
    "    if n % 2 == 0:\n",
    "        return f\"{n} is an even number\"\n",
    "    else:\n",
    "        return f\"{n} is an odd number\""
   ]
  },
  {
   "cell_type": "code",
   "execution_count": 97,
   "id": "091e2d28-7e99-4b2a-9f71-5246146db743",
   "metadata": {},
   "outputs": [
    {
     "name": "stdin",
     "output_type": "stream",
     "text": [
      "Enter the number 2\n"
     ]
    },
    {
     "name": "stdout",
     "output_type": "stream",
     "text": [
      "2 is an even number\n"
     ]
    }
   ],
   "source": [
    "n = int(input(\"Enter the number\"))\n",
    "result = is_even_odd(n)\n",
    "print(result)"
   ]
  },
  {
   "cell_type": "code",
   "execution_count": 98,
   "id": "4144c22b-d1ef-475e-bc0e-f49740c701ea",
   "metadata": {},
   "outputs": [
    {
     "name": "stdin",
     "output_type": "stream",
     "text": [
      "Enter the number 5\n"
     ]
    },
    {
     "name": "stdout",
     "output_type": "stream",
     "text": [
      "5 is an odd number\n"
     ]
    }
   ],
   "source": [
    "n = int(input(\"Enter the number\"))\n",
    "result = is_even_odd(n)\n",
    "print(result)"
   ]
  },
  {
   "cell_type": "markdown",
   "id": "cc3081eb-c840-49e2-ae29-fbdca03cae5c",
   "metadata": {},
   "source": [
    "# Intermediate Level"
   ]
  },
  {
   "cell_type": "markdown",
   "id": "89d82f17-c993-4968-9f4d-ed30fac1a168",
   "metadata": {},
   "source": [
    "11. Write a program that calculates the roots of a quadratic equation ."
   ]
  },
  {
   "cell_type": "code",
   "execution_count": 99,
   "id": "4792230e-b498-493f-88be-0cb4832f9192",
   "metadata": {},
   "outputs": [
    {
     "name": "stdin",
     "output_type": "stream",
     "text": [
      "Enter coefficients a, b, c separated by spaces:  1 -2 1\n"
     ]
    },
    {
     "name": "stdout",
     "output_type": "stream",
     "text": [
      "The roots of quadratic equation 1.0x**2 + -2.0*x + 1.0 are real and equal: (1.0, 1.0)\n"
     ]
    }
   ],
   "source": [
    "import numpy as np\n",
    "\n",
    "input_numbers = input(\"Enter coefficients a, b, c separated by spaces: \")\n",
    "\n",
    "numbers = [float(num) for num in input_numbers.split()]\n",
    "\n",
    "a = numbers[0]\n",
    "b = numbers[1]\n",
    "c = numbers[2]\n",
    "\n",
    "# quad_eq = ax**2 + b*x + c\n",
    "# We can define a function for increased efficiency\n",
    "\n",
    "def quadratic_solver(a, b, c):\n",
    "    discriminant = b**2 - 4*a*c  # let's calculate discriminant first\n",
    "    if discriminant > 0:\n",
    "        x1 = np.round((-b + np.sqrt(discriminant)) / (2*a), 2)\n",
    "        x2 = np.round((-b - np.sqrt(discriminant)) / (2*a), 2)\n",
    "        return f\"The roots of quadratic equation {a}x**2 + {b}*x + {c} are real: {(x1, x2)}\"\n",
    "    elif discriminant == 0:\n",
    "        x1 = x2 = np.round((-b)/(2*a), 2)\n",
    "        return f\"The roots of quadratic equation {a}x**2 + {b}*x + {c} are real and equal: {(x1, x2)}\"\n",
    "    else:\n",
    "        # Calculate imaginary roots using complex numbers\n",
    "        x1 = np.round((-b + np.sqrt(abs(discriminant))*1j) / (2*a),2)\n",
    "        x2 = np.round((-b - np.sqrt(abs(discriminant))*1j) / (2*a),2)\n",
    "        return f\"The roots of quadratic equation {a}x**2 + {b}*x + {c} are complex: {(x1, x2)}\"\n",
    "\n",
    "result = quadratic_solver(a, b, c)\n",
    "print(result)"
   ]
  },
  {
   "cell_type": "markdown",
   "id": "b3afeb7a-25c2-40f0-b1f6-503785ae0ca0",
   "metadata": {},
   "source": [
    "12. Create a program that determines the day of the week based on the day number (1-7)."
   ]
  },
  {
   "cell_type": "code",
   "execution_count": 100,
   "id": "2b28781d-4fa2-46d3-9e2a-8eeab37baba5",
   "metadata": {
    "tags": []
   },
   "outputs": [
    {
     "name": "stdin",
     "output_type": "stream",
     "text": [
      "Enter the number:  8\n"
     ]
    },
    {
     "name": "stdout",
     "output_type": "stream",
     "text": [
      "Monday\n"
     ]
    }
   ],
   "source": [
    "day_num = int(input(\"Enter the number: \"))\n",
    "day_num = day_num % 7\n",
    "\n",
    "weekday_list = ['Monday', 'Tuesday', 'Wednesday', 'Thursday', 'Friday', 'Saturday', 'Sunday']\n",
    "\n",
    "if day_num == 0:\n",
    "    # Adjusting for Sunday (7 % 7 = 0)\n",
    "    print(weekday_list[6])\n",
    "else:\n",
    "    print(weekday_list[day_num - 1])"
   ]
  },
  {
   "cell_type": "markdown",
   "id": "ac5a55d7-520a-49cf-82b1-bdc5fca44198",
   "metadata": {},
   "source": [
    "13. Develop a program that calculates the factorial of a given number using recursion."
   ]
  },
  {
   "cell_type": "code",
   "execution_count": 101,
   "id": "4cf48569-5231-4ea1-9b18-f6a30cc827d6",
   "metadata": {},
   "outputs": [
    {
     "name": "stdin",
     "output_type": "stream",
     "text": [
      "Enter the number:  6\n"
     ]
    },
    {
     "name": "stdout",
     "output_type": "stream",
     "text": [
      "6! = 720\n"
     ]
    }
   ],
   "source": [
    "def factorial(n):\n",
    "    if n == 0 or n == 1:\n",
    "        return 1\n",
    "    else:\n",
    "        return n * factorial(n-1)\n",
    "\n",
    "n = int(input(\"Enter the number: \"))\n",
    "\n",
    "result = factorial(n)\n",
    "\n",
    "print(f\"{n}! = {result}\")"
   ]
  },
  {
   "cell_type": "markdown",
   "id": "d0b7cb58-df3c-4d8f-b54a-e86052a42afd",
   "metadata": {},
   "source": [
    "14. Write a program to find the largest among three numbers without using the `max()` function."
   ]
  },
  {
   "cell_type": "code",
   "execution_count": 103,
   "id": "35436da6-948a-438c-8f25-388c701d604f",
   "metadata": {},
   "outputs": [
    {
     "name": "stdin",
     "output_type": "stream",
     "text": [
      "Enter the first number:  -5\n",
      "Enter the second number:  -10\n",
      "Enter the third number:  0\n"
     ]
    },
    {
     "name": "stdout",
     "output_type": "stream",
     "text": [
      "The largest number among -5.0, -10.0, and 0.0 is: 0.0\n"
     ]
    }
   ],
   "source": [
    "def find_largest_number(num1, num2, num3):\n",
    "    if num1 >= num2 and num1 >= num3:\n",
    "        largest = num1\n",
    "    elif num2 >= num1 and num2 >= num3:\n",
    "        largest = num2\n",
    "    else:\n",
    "        largest = num3\n",
    "\n",
    "    return largest\n",
    "\n",
    "num1 = float(input(\"Enter the first number: \"))\n",
    "num2 = float(input(\"Enter the second number: \"))\n",
    "num3 = float(input(\"Enter the third number: \"))\n",
    "\n",
    "largest_number = find_largest_number(num1, num2, num3)\n",
    "print(f\"The largest number among {num1}, {num2}, and {num3} is: {largest_number}\")"
   ]
  },
  {
   "cell_type": "markdown",
   "id": "723dacd1-8a9d-461a-a260-5aa9b5d12727",
   "metadata": {},
   "source": [
    "15. Create a program that simulates a basic ATM transaction menu."
   ]
  },
  {
   "cell_type": "code",
   "execution_count": 104,
   "id": "3938330a-5bbe-4de8-b2d6-1f703f5b70bf",
   "metadata": {},
   "outputs": [
    {
     "name": "stdout",
     "output_type": "stream",
     "text": [
      "\n",
      "ATM Menu:\n",
      "1. Check Balance\n",
      "2. Deposit\n",
      "3. Withdraw\n",
      "4. Exit\n"
     ]
    },
    {
     "name": "stdin",
     "output_type": "stream",
     "text": [
      "Enter your choice (1-4):  1\n"
     ]
    },
    {
     "name": "stdout",
     "output_type": "stream",
     "text": [
      "Your balance is: $1000\n",
      "\n",
      "ATM Menu:\n",
      "1. Check Balance\n",
      "2. Deposit\n",
      "3. Withdraw\n",
      "4. Exit\n"
     ]
    },
    {
     "name": "stdin",
     "output_type": "stream",
     "text": [
      "Enter your choice (1-4):  2\n",
      "Enter the deposit amount: $ 100\n"
     ]
    },
    {
     "name": "stdout",
     "output_type": "stream",
     "text": [
      "Deposited $100.0. Your new balance is: $1100.0\n",
      "\n",
      "ATM Menu:\n",
      "1. Check Balance\n",
      "2. Deposit\n",
      "3. Withdraw\n",
      "4. Exit\n"
     ]
    },
    {
     "name": "stdin",
     "output_type": "stream",
     "text": [
      "Enter your choice (1-4):  5\n"
     ]
    },
    {
     "name": "stdout",
     "output_type": "stream",
     "text": [
      "Invalid choice. Please enter a number between 1 and 4.\n",
      "\n",
      "ATM Menu:\n",
      "1. Check Balance\n",
      "2. Deposit\n",
      "3. Withdraw\n",
      "4. Exit\n"
     ]
    },
    {
     "name": "stdin",
     "output_type": "stream",
     "text": [
      "Enter your choice (1-4):  3\n",
      "Enter the withdrawal amount: $ 500\n"
     ]
    },
    {
     "name": "stdout",
     "output_type": "stream",
     "text": [
      "Withdrew $500.0. Your new balance is: $600.0\n",
      "\n",
      "ATM Menu:\n",
      "1. Check Balance\n",
      "2. Deposit\n",
      "3. Withdraw\n",
      "4. Exit\n"
     ]
    },
    {
     "name": "stdin",
     "output_type": "stream",
     "text": [
      "Enter your choice (1-4):  4\n"
     ]
    },
    {
     "name": "stdout",
     "output_type": "stream",
     "text": [
      "Exiting. Thank you!\n"
     ]
    }
   ],
   "source": [
    "class ATM:\n",
    "    def __init__(self, account_number, pin, balance):\n",
    "        self.account_number = account_number\n",
    "        self.pin = pin\n",
    "        self.balance = balance\n",
    "\n",
    "    def display_menu(self):\n",
    "        print(\"\\nATM Menu:\")\n",
    "        print(\"1. Check Balance\")\n",
    "        print(\"2. Deposit\")\n",
    "        print(\"3. Withdraw\")\n",
    "        print(\"4. Exit\")\n",
    "\n",
    "    def check_balance(self):\n",
    "        print(f\"Your balance is: ${self.balance}\")\n",
    "\n",
    "    def deposit(self, amount):\n",
    "        self.balance += amount\n",
    "        print(f\"Deposited ${amount}. Your new balance is: ${self.balance}\")\n",
    "\n",
    "    def withdraw(self, amount):\n",
    "        if amount > self.balance:\n",
    "            print(\"Insufficient funds!\")\n",
    "        else:\n",
    "            self.balance -= amount\n",
    "            print(f\"Withdrew ${amount}. Your new balance is: ${self.balance}\")\n",
    "\n",
    "def main():\n",
    "    # Initialize the ATM with some starting values\n",
    "    account_number = \"123456\"\n",
    "    pin = \"1234\"\n",
    "    balance = 1000\n",
    "\n",
    "    atm = ATM(account_number, pin, balance)\n",
    "\n",
    "    while True:\n",
    "        # Display the ATM menu\n",
    "        atm.display_menu()\n",
    "\n",
    "        # Get user choice\n",
    "        choice = input(\"Enter your choice (1-4): \")\n",
    "\n",
    "        if choice == \"1\":\n",
    "            atm.check_balance()\n",
    "        elif choice == \"2\":\n",
    "            amount = float(input(\"Enter the deposit amount: $\"))\n",
    "            atm.deposit(amount)\n",
    "        elif choice == \"3\":\n",
    "            amount = float(input(\"Enter the withdrawal amount: $\"))\n",
    "            atm.withdraw(amount)\n",
    "        elif choice == \"4\":\n",
    "            print(\"Exiting. Thank you!\")\n",
    "            break\n",
    "        else:\n",
    "            print(\"Invalid choice. Please enter a number between 1 and 4.\")\n",
    "\n",
    "if __name__ == \"__main__\":\n",
    "    main()"
   ]
  },
  {
   "cell_type": "markdown",
   "id": "7da53de7-9144-41c3-a185-569005c1e6a1",
   "metadata": {},
   "source": [
    "16. Build a program that checks if a given string is a palindrome or not."
   ]
  },
  {
   "cell_type": "code",
   "execution_count": 105,
   "id": "863abc60-7b2a-451a-a53c-82ce85ba92b2",
   "metadata": {},
   "outputs": [],
   "source": [
    "def is_palindrome(string):\n",
    "    string = string.lower()\n",
    "    if string == string[::-1]:\n",
    "        return True\n",
    "    else:\n",
    "        return False"
   ]
  },
  {
   "cell_type": "code",
   "execution_count": 106,
   "id": "0ea838a0-2b2b-4ddb-96e3-baf053807aab",
   "metadata": {},
   "outputs": [
    {
     "name": "stdin",
     "output_type": "stream",
     "text": [
      "Enter the string Aibohphobia\n"
     ]
    },
    {
     "name": "stdout",
     "output_type": "stream",
     "text": [
      "The string 'Aibohphobia' is a palindrome\n"
     ]
    }
   ],
   "source": [
    "string = input(\"Enter the string\")\n",
    "if is_palindrome(string):\n",
    "    print(f\"The string '{string}' is a palindrome\")\n",
    "else:\n",
    "    print(f\"The string '{string}' is not a palindrome\")"
   ]
  },
  {
   "cell_type": "markdown",
   "id": "ca9ceac9-53cf-426d-8d67-276283e1a4aa",
   "metadata": {},
   "source": [
    "17. Write a program that calculates the average of a list of numbers, excluding the smallest and largest values."
   ]
  },
  {
   "cell_type": "code",
   "execution_count": 107,
   "id": "b1c7ca2a-aad7-43be-855f-a450efa00c1d",
   "metadata": {},
   "outputs": [
    {
     "name": "stdout",
     "output_type": "stream",
     "text": [
      "The average of given list excluding minimum and maximum numbers is: 4.4\n"
     ]
    }
   ],
   "source": [
    "list1 = [1,2,3,4,5,6,7,8,9,10]\n",
    "avg = sum(i for i in list1 if (i != max(list1) and i != min(list1)))/len(list1)\n",
    "print(\"The average of given list excluding minimum and maximum numbers is:\", avg)"
   ]
  },
  {
   "cell_type": "markdown",
   "id": "aea869c5-c352-4412-8279-cee709f6a423",
   "metadata": {},
   "source": [
    "19. Create a program that simulates a basic calculator for addition, subtraction, multiplication, and division."
   ]
  },
  {
   "cell_type": "code",
   "execution_count": null,
   "id": "f699070a-3d94-4c03-8c87-581305355e9b",
   "metadata": {
    "tags": []
   },
   "outputs": [],
   "source": [
    "from tkinter import *\n",
    "\n",
    "first_number=second_number=operator=None\n",
    "\n",
    "def get_digit(digit):\n",
    "    current = result_label['text']\n",
    "    new = current + str(digit)\n",
    "    result_label.config(text=new)\n",
    "\n",
    "def clear():\n",
    "    result_label.config(text='')\n",
    "\n",
    "def get_operator(op):\n",
    "    global first_number,operator\n",
    "\n",
    "    first_number = int(result_label['text'])\n",
    "    operator = op\n",
    "    result_label.config(text='')\n",
    "\n",
    "def get_result():\n",
    "    global first_number,second_number,operator\n",
    "\n",
    "    second_number = int(result_label['text'])\n",
    "\n",
    "    if operator == '+':\n",
    "        result_label.config(text=str(first_number+second_number))\n",
    "    elif operator == '-':\n",
    "        result_label.config(text=str(first_number - second_number))\n",
    "    elif operator == '*':\n",
    "        result_label.config(text=str(first_number * second_number))\n",
    "    else:\n",
    "        if second_number == 0:\n",
    "            result_label.config(text='Error')\n",
    "        else:\n",
    "            result_label.config(text=str(round(first_number / second_number,2)))\n",
    "\n",
    "root = Tk()\n",
    "root.title('Calculator')\n",
    "root.geometry('280x380')\n",
    "root.resizable(0,0)\n",
    "root.configure(background='black')\n",
    "\n",
    "result_label = Label(root,text='',bg='black',fg='white')\n",
    "result_label.grid(row=0,column=0,columnspan=5,pady=(50,25),sticky='w')\n",
    "result_label.config(font=('verdana',30,'bold'))\n",
    "\n",
    "btn7 = Button(root,text='7',bg='#00a65a',fg='white',width=5,height=2,command=lambda :get_digit(7))\n",
    "btn7.grid(row=1,column=0)\n",
    "btn7.config(font=('verdana',14))\n",
    "\n",
    "btn8 = Button(root,text='8',bg='#00a65a',fg='white',width=5,height=2,command=lambda :get_digit(8))\n",
    "btn8.grid(row=1,column=1)\n",
    "btn8.config(font=('verdana',14))\n",
    "\n",
    "btn9 = Button(root,text='9',bg='#00a65a',fg='white',width=5,height=2,command=lambda :get_digit(9))\n",
    "btn9.grid(row=1,column=2)\n",
    "btn9.config(font=('verdana',14))\n",
    "\n",
    "btn_add = Button(root,text='+',bg='#00a65a',fg='white',width=5,height=2,command=lambda :get_operator('+'))\n",
    "btn_add.grid(row=1,column=3)\n",
    "btn_add.config(font=('verdana',14))\n",
    "\n",
    "btn4 = Button(root,text='4',bg='#00a65a',fg='white',width=5,height=2,command=lambda :get_digit(4))\n",
    "btn4.grid(row=2,column=0)\n",
    "btn4.config(font=('verdana',14))\n",
    "\n",
    "btn5 = Button(root,text='5',bg='#00a65a',fg='white',width=5,height=2,command=lambda :get_digit(5))\n",
    "btn5.grid(row=2,column=1)\n",
    "btn5.config(font=('verdana',14))\n",
    "\n",
    "btn6 = Button(root,text='6',bg='#00a65a',fg='white',width=5,height=2,command=lambda :get_digit(6))\n",
    "btn6.grid(row=2,column=2)\n",
    "btn6.config(font=('verdana',14))\n",
    "\n",
    "btn_sub = Button(root,text='-',bg='#00a65a',fg='white',width=5,height=2,command=lambda :get_operator('-'))\n",
    "btn_sub.grid(row=2,column=3)\n",
    "btn_sub.config(font=('verdana',14))\n",
    "\n",
    "btn1 = Button(root,text='1',bg='#00a65a',fg='white',width=5,height=2,command=lambda :get_digit(1))\n",
    "btn1.grid(row=3,column=0)\n",
    "btn1.config(font=('verdana',14))\n",
    "\n",
    "btn2 = Button(root,text='2',bg='#00a65a',fg='white',width=5,height=2,command=lambda :get_digit(2))\n",
    "btn2.grid(row=3,column=1)\n",
    "btn2.config(font=('verdana',14))\n",
    "\n",
    "btn3 = Button(root,text='3',bg='#00a65a',fg='white',width=5,height=2,command=lambda :get_digit(3))\n",
    "btn3.grid(row=3,column=2)\n",
    "btn3.config(font=('verdana',14))\n",
    "\n",
    "btn_mul = Button(root,text='*',bg='#00a65a',fg='white',width=5,height=2,command=lambda :get_operator('*'))\n",
    "btn_mul.grid(row=3,column=3)\n",
    "btn_mul.config(font=('verdana',14))\n",
    "\n",
    "btn_clr = Button(root,text='C',bg='#00a65a',fg='white',width=5,height=2,command=lambda :clear())\n",
    "btn_clr.grid(row=4,column=0)\n",
    "btn_clr.config(font=('verdana',14))\n",
    "\n",
    "btn0 = Button(root,text='0',bg='#00a65a',fg='white',width=5,height=2,command=lambda :get_digit(0))\n",
    "btn0.grid(row=4,column=1)\n",
    "btn0.config(font=('verdana',14))\n",
    "\n",
    "btn_equals = Button(root,text='=',bg='#00a65a',fg='white',width=5,height=2,command=get_result)\n",
    "btn_equals.grid(row=4,column=2)\n",
    "btn_equals.config(font=('verdana',14))\n",
    "\n",
    "btn_div = Button(root,text='/',bg='#00a65a',fg='white',width=5,height=2,command=lambda :get_operator('/'))\n",
    "btn_div.grid(row=4,column=3)\n",
    "btn_div.config(font=('verdana',14))\n",
    "\n",
    "root.mainloop()"
   ]
  },
  {
   "cell_type": "markdown",
   "id": "76a41401-3e2f-408c-97c7-cdd17a7ba63d",
   "metadata": {},
   "source": [
    "20. Write a program that determines the roots of a cubic equation using the Cardano formula."
   ]
  },
  {
   "cell_type": "markdown",
   "id": "a5e82917-0d68-42fc-bb21-98b34fe0cb67",
   "metadata": {},
   "source": [
    "* The general for of the cubic equation is $ ax^3 + bx^2 + cx + d = 0 $"
   ]
  },
  {
   "cell_type": "code",
   "execution_count": 108,
   "id": "30ad8c40-99a2-40b1-b2c1-a201493bec49",
   "metadata": {},
   "outputs": [],
   "source": [
    "# To solve cubic equation using Cardano's formula, we define a function\n",
    "def solve_cubic(input_coeff):\n",
    "    coeffs = [float(coeff) for coeff in input_coeff.split()]\n",
    "\n",
    "    a = coeffs[0]\n",
    "    b = coeffs[1]\n",
    "    c = coeffs[2]\n",
    "    d = coeffs[3]\n",
    "    # Computing the coefficients for Cardano's formula\n",
    "    p = (3 * a * c - b ** 2) / (3 * a ** 2)\n",
    "    q = (9 * a * b * c - 27 * a ** 2 * d - 2 * b ** 3) / (54 * a ** 3)\n",
    "\n",
    "    # Compute the discriminant\n",
    "    delta = q ** 3 + (p / 3) ** 3\n",
    "\n",
    "    # Determine the nature of the roots\n",
    "    if delta > 0:\n",
    "        # when delta > 0, One real root, two complex conjugate roots\n",
    "        s = (delta ** 0.5 - q) ** (1 / 3) if delta > 0 else -(-delta ** 0.5 - q) ** (1 / 3)\n",
    "        root1 = round((s - p / (3 * s) - b / (3 * a)).real, 6)\n",
    "        return [root1]\n",
    "    elif delta == 0:\n",
    "        # when delta = 0, One real root, two identical real roots\n",
    "        if q >= 0:\n",
    "            root1 = round((-q) ** (1 / 3) - b / (3 * a), 6)\n",
    "            root2 = round((-q) ** (1 / 3) - b / (3 * a), 6)\n",
    "        else:\n",
    "            root1 = round((-(-q) ** (1 / 3) - b / (3 * a)).real, 6)\n",
    "            root2 = round(((-q) ** (1 / 3) - b / (3 * a)).real, 6)\n",
    "        return [root1, root2]\n",
    "    else:\n",
    "        # when delta < 0, Three distinct real roots\n",
    "        theta = cmath.phase(-q + delta ** 0.5j)\n",
    "        r = abs(delta) ** 0.5\n",
    "        root1 = np.round(2 * r ** (1 / 3) * cmath.cos(theta / 3) - b / (3 * a), 6)\n",
    "        root2 = np.round(2 * r ** (1 / 3) * cmath.cos((theta + 2 * cmath.pi) / 3) - b / (3 * a), 6)\n",
    "        root3 = np.round(2 * r ** (1 / 3) * cmath.cos((theta + 4 * cmath.pi) / 3) - b / (3 * a), 6)\n",
    "        return [root1, root2, root3]"
   ]
  },
  {
   "cell_type": "code",
   "execution_count": 112,
   "id": "bfb51aa9-76aa-4823-a0b1-a99787df6a98",
   "metadata": {},
   "outputs": [
    {
     "name": "stdin",
     "output_type": "stream",
     "text": [
      "Enter coefficients a, b, c, d separated by spaces:  1 2 3 4\n"
     ]
    },
    {
     "name": "stdout",
     "output_type": "stream",
     "text": [
      "The roots of given cubic equation are: [(1.579247+0j), (-1.820438-0j), (-1.75881+0j)]\n"
     ]
    }
   ],
   "source": [
    "input_coeff = input(\"Enter coefficients a, b, c, d separated by spaces: \")\n",
    "roots = solve_cubic(input_coeff)\n",
    "print(\"The roots of given cubic equation are:\", roots)"
   ]
  },
  {
   "cell_type": "markdown",
   "id": "a3ab1a32-2fef-4dec-acc0-2ebda880cd72",
   "metadata": {},
   "source": [
    "# Advanced Level:"
   ]
  },
  {
   "cell_type": "markdown",
   "id": "14b0ae4c-fbda-4161-b280-6c76c478ab95",
   "metadata": {},
   "source": [
    "21. Create a program that calculates the income tax based on the user's income and tax brackets."
   ]
  },
  {
   "cell_type": "code",
   "execution_count": 113,
   "id": "86afd8f0-ae70-4a0b-90b9-e5b93840921c",
   "metadata": {},
   "outputs": [],
   "source": [
    "def income_tax(income):\n",
    "    if income < 0:\n",
    "        return \"Please enter the valid income\"\n",
    "    elif 0 < income <= 250000:\n",
    "        return \"Your income is in tax free limit\"\n",
    "    elif 250000 < income <= 500000:\n",
    "        taxable_income1 = income - 250000\n",
    "        tax1 = (5/100)*taxable_income1\n",
    "        return f\"Tax on your income is {tax1}\"\n",
    "    elif 500000 < income <= 750000:\n",
    "        taxable_income2 = income - 500000\n",
    "        tax2 = 12500 + (10/100)*taxable_income2\n",
    "        return f\"Tax on your income is {tax2}\"\n",
    "    elif 750000 < income <= 1000000:\n",
    "        taxable_income3 = income - 750000\n",
    "        tax3 = 37500 + (15/100)*taxable_income3\n",
    "        return f\"Tax on your income is {tax3}\"\n",
    "    elif 1000000 < income <= 1250000:\n",
    "        taxable_income4 = income - 1000000\n",
    "        tax4 = 75000 + (20/100)*taxable_income4\n",
    "        return f\"Tax on your income is {tax4}\"\n",
    "    elif 1250000 < income <= 1500000:\n",
    "        taxable_income5 = income - 1250000\n",
    "        tax5 = 125000 + (25/100)*taxable_income5\n",
    "        return f\"Tax on your income is {tax5}\"\n",
    "    else:\n",
    "        taxable_income6 = income - 1500000\n",
    "        tax6 = 187500 + (30/100)*taxable_income6\n",
    "        return f\"Tax on your income is {tax6}\""
   ]
  },
  {
   "cell_type": "code",
   "execution_count": 114,
   "id": "609ac122-a7f2-4806-ac63-14ef32bff792",
   "metadata": {},
   "outputs": [
    {
     "name": "stdin",
     "output_type": "stream",
     "text": [
      "Enter your income: 500000\n"
     ]
    },
    {
     "name": "stdout",
     "output_type": "stream",
     "text": [
      "Tax on your income is 12500.0\n"
     ]
    }
   ],
   "source": [
    "income = int(input(\"Enter your income:\"))\n",
    "tax = income_tax(income)\n",
    "print(tax)"
   ]
  },
  {
   "cell_type": "markdown",
   "id": "cbacb900-4547-477f-82f3-68baa3bda982",
   "metadata": {},
   "source": [
    "22. Write a program that simulates a rock-paper-scissors game against the computer."
   ]
  },
  {
   "cell_type": "code",
   "execution_count": 115,
   "id": "ae390ca4-6d33-480c-8125-8cdfb3b38e36",
   "metadata": {},
   "outputs": [
    {
     "name": "stdin",
     "output_type": "stream",
     "text": [
      "Enter a choice (rock, paper, scissors):  rock\n"
     ]
    },
    {
     "name": "stdout",
     "output_type": "stream",
     "text": [
      "Player: rock\n",
      "Computer: scissors\n",
      "You win!\n"
     ]
    },
    {
     "name": "stdin",
     "output_type": "stream",
     "text": [
      "Play again? (y/n):  n\n"
     ]
    },
    {
     "name": "stdout",
     "output_type": "stream",
     "text": [
      "Thanks for playing\n"
     ]
    }
   ],
   "source": [
    "options = (\"rock\", \"paper\", \"scissors\")\n",
    "playing = True\n",
    "while playing:\n",
    "    player = None\n",
    "    computer = random.choice(options)\n",
    "    \n",
    "    while player not in options:\n",
    "        player = input(\"Enter a choice (rock, paper, scissors): \")\n",
    "    \n",
    "    print(f\"Player: {player}\")\n",
    "    print(f\"Computer: {computer}\")\n",
    "    \n",
    "    if player == computer:\n",
    "        print(\"It's a tie!\")\n",
    "    elif player == \"rock\" and computer == \"scissors\":\n",
    "        print(\"You win!\")\n",
    "    elif player == \"paper\" and computer == \"rock\":\n",
    "        print(\"You win!\")\n",
    "    elif player == \"scissors\" and computer == \"paper\":\n",
    "        print(\"You win!\")\n",
    "    else:\n",
    "        print(\"You lose!\")\n",
    "\n",
    "    if not input(\"Play again? (y/n): \").lower() == \"y\":\n",
    "        playing = False\n",
    "\n",
    "print(\"Thanks for playing\")"
   ]
  },
  {
   "cell_type": "markdown",
   "id": "78a7febe-12ad-449f-a784-d1afec5f59d2",
   "metadata": {},
   "source": [
    "23. Develop a program that generates a random password based on user preferences (length, complexity)."
   ]
  },
  {
   "cell_type": "code",
   "execution_count": 116,
   "id": "5c4a41f0-9cd5-4876-8b6a-e2bdc1535c4d",
   "metadata": {},
   "outputs": [
    {
     "name": "stdout",
     "output_type": "stream",
     "text": [
      "P,5[&wF_y^.~>\n",
      "~AvTZcajuUE;=\n",
      "g~)?{$r[R(z*N\n",
      "/{9?^OL+w~tVj\n",
      ")#^o24dA9\\v+C\n",
      "BA[ylZh!$bvq(\n",
      "9yBc#}tl2D8%?\n",
      "2)=i/UJb1,u?L\n",
      "H-Ul&.eQ\\]xX@\n",
      "fh8d?i0}~1p])\n"
     ]
    }
   ],
   "source": [
    "# Lets generate password using random library\n",
    "\n",
    "uppercase_letters = \"ABCDEFGHIJKLMNOPQRSTUVWXYZ\"\n",
    "lowercase_letters = uppercase_letters.lower()\n",
    "digits = \"0123456789\"\n",
    "symbols = \"()[]{},;:.-_/\\\\?*%$#@!~&^<>+=\"\n",
    "\n",
    "upper, lower, nums, syms = True, True, True, True\n",
    "\n",
    "all = \"\"\n",
    "\n",
    "if upper:\n",
    "    all += uppercase_letters\n",
    "if lower:\n",
    "    all += lowercase_letters\n",
    "if nums:\n",
    "    all += digits\n",
    "if syms:\n",
    "    all += symbols\n",
    "\n",
    "length = 13\n",
    "amount = 10\n",
    "\n",
    "for x in range(amount):\n",
    "    password = \"\".join(random.sample(all, length))\n",
    "    print(password)"
   ]
  },
  {
   "cell_type": "markdown",
   "id": "e1538032-66d8-4efc-b289-5a5cde1a6765",
   "metadata": {},
   "source": [
    "24. Create a program that implements a simple text-based adventure game with branching scenarios."
   ]
  },
  {
   "cell_type": "code",
   "execution_count": 117,
   "id": "7e735af9-9bee-45bb-8534-b1149cafd375",
   "metadata": {},
   "outputs": [
    {
     "name": "stdout",
     "output_type": "stream",
     "text": [
      "Welcome to the Text Adventure Game!\n",
      "You find yourself in a mysterious land with two paths ahead.\n",
      "Choose your path:\n",
      "1. Forest\n",
      "2. Desert\n"
     ]
    },
    {
     "name": "stdin",
     "output_type": "stream",
     "text": [
      "Enter 1 or 2:  1\n"
     ]
    },
    {
     "name": "stdout",
     "output_type": "stream",
     "text": [
      "You enter a dense forest.\n",
      "1. Explore deeper into the forest.\n",
      "2. Climb a tree to get a better view.\n"
     ]
    },
    {
     "name": "stdin",
     "output_type": "stream",
     "text": [
      "Enter 1 or 2:  2\n"
     ]
    },
    {
     "name": "stdout",
     "output_type": "stream",
     "text": [
      "While climbing the tree, you spot a dangerous creature below.\n",
      "It notices you and you have to run away.\n",
      "You narrowly escape. The adventure continues...\n"
     ]
    }
   ],
   "source": [
    "import time\n",
    "\n",
    "def introduction():\n",
    "    print(\"Welcome to the Text Adventure Game!\")\n",
    "    time.sleep(1)\n",
    "    print(\"You find yourself in a mysterious land with two paths ahead.\")\n",
    "    time.sleep(1)\n",
    "\n",
    "def choose_path():\n",
    "    print(\"Choose your path:\")\n",
    "    print(\"1. Forest\")\n",
    "    print(\"2. Desert\")\n",
    "    choice = input(\"Enter 1 or 2: \")\n",
    "    return choice\n",
    "\n",
    "def forest_scenario():\n",
    "    print(\"You enter a dense forest.\")\n",
    "    time.sleep(1)\n",
    "    print(\"1. Explore deeper into the forest.\")\n",
    "    print(\"2. Climb a tree to get a better view.\")\n",
    "    choice = input(\"Enter 1 or 2: \")\n",
    "    return choice\n",
    "\n",
    "def desert_scenario():\n",
    "    print(\"You find yourself in a vast desert.\")\n",
    "    time.sleep(1)\n",
    "    print(\"1. Search for an oasis.\")\n",
    "    print(\"2. Follow a distant mountain range.\")\n",
    "    choice = input(\"Enter 1 or 2: \")\n",
    "    return choice\n",
    "\n",
    "def main():\n",
    "    introduction()\n",
    "\n",
    "    path_choice = choose_path()\n",
    "\n",
    "    if path_choice == '1':\n",
    "        forest_choice = forest_scenario()\n",
    "        if forest_choice == '1':\n",
    "            print(\"You discover a hidden cave.\")\n",
    "            time.sleep(1)\n",
    "            print(\"Inside the cave, you find a treasure chest!\")\n",
    "            print(\"Congratulations, you win!\")\n",
    "        elif forest_choice == '2':\n",
    "            print(\"While climbing the tree, you spot a dangerous creature below.\")\n",
    "            time.sleep(1)\n",
    "            print(\"It notices you and you have to run away.\")\n",
    "            print(\"You narrowly escape. The adventure continues...\")\n",
    "            # Continue with more scenarios\n",
    "    elif path_choice == '2':\n",
    "        desert_choice = desert_scenario()\n",
    "        if desert_choice == '1':\n",
    "            print(\"You find a refreshing oasis and rest.\")\n",
    "            time.sleep(1)\n",
    "            print(\"You meet a friendly traveler who shares valuable information.\")\n",
    "            print(\"Congratulations, you win!\")\n",
    "        elif desert_choice == '2':\n",
    "            print(\"You follow the mountain range and encounter a group of bandits.\")\n",
    "            time.sleep(1)\n",
    "            print(\"They demand your belongings. What will you do?\")\n",
    "            print(\"1. Fight the bandits.\")\n",
    "            print(\"2. Surrender your belongings.\")\n",
    "            bandit_choice = input(\"Enter 1 or 2: \")\n",
    "            if bandit_choice == '1':\n",
    "                print(\"You bravely fight the bandits but get injured.\")\n",
    "                print(\"You manage to escape, but the adventure continues...\")\n",
    "                # Continue with more scenarios\n",
    "            elif bandit_choice == '2':\n",
    "                print(\"You surrender your belongings and the bandits leave.\")\n",
    "                time.sleep(1)\n",
    "                print(\"You continue your journey. The adventure continues...\")\n",
    "\n",
    "if __name__ == \"__main__\":\n",
    "    main()"
   ]
  },
  {
   "cell_type": "markdown",
   "id": "899075a2-d5e1-458d-8c0a-59a1eab97300",
   "metadata": {},
   "source": [
    "25. Build a program that solves a linear equation for x, considering different cases."
   ]
  },
  {
   "cell_type": "code",
   "execution_count": 118,
   "id": "66e1b87d-7af4-45ae-93d2-8c3c6e7a8e1b",
   "metadata": {},
   "outputs": [
    {
     "name": "stdout",
     "output_type": "stream",
     "text": [
      "x = 8\n"
     ]
    }
   ],
   "source": [
    "def solve_equation(equation) :\n",
    " \n",
    "    n = len(equation) \n",
    "    sign = 1\n",
    "    coeff = 0\n",
    "    total = 0\n",
    "    i = 0\n",
    "    # Traverse the equation\n",
    "    for j in range(0, n) :\n",
    "     \n",
    "        if (equation[j] == '+' or\n",
    "            equation[j] == '-') :\n",
    "         \n",
    "            if (j > i) :\n",
    "                total = (total + sign *\n",
    "                         int(equation[i: j]))\n",
    "            i = j\n",
    "        # For cases such as: x, -x, +x\n",
    "        elif (equation[j] == 'x') :\n",
    "         \n",
    "            if ((i == j) or\n",
    "                equation[j - 1] == '+') :\n",
    "                coeff += sign\n",
    "            elif (equation[j - 1] == '-') :\n",
    "                coeff = coeff - sign\n",
    "            else :\n",
    "                coeff = (coeff + sign *\n",
    "                         int(equation[i: j]))\n",
    "            i = j + 1\n",
    "        elif (equation[j] == '=') :\n",
    "         \n",
    "            if (j > i) :\n",
    "                total = (total + sign *\n",
    "                         int(equation[i: j]))\n",
    "            sign = -1\n",
    "            i = j + 1\n",
    "    if (i < n) :\n",
    "        total = (total + sign *\n",
    "                 int(equation[i: len(equation)]))\n",
    "    # For infinite solutions\n",
    "    if (coeff == 0 and\n",
    "        total == 0) :\n",
    "        return \"Infinite solutions\"\n",
    "    # For no solution\n",
    "    if (coeff == 0 and total) :\n",
    "        return \"No solution\"\n",
    "    ans = -total / coeff\n",
    "    return int(ans)\n",
    " \n",
    "equation = \"x+2x-13-3+x=5+6+x-2\" # Input any linear equation in one variable here\n",
    "print (\"x = {}\".format(solve_equation(equation)))"
   ]
  },
  {
   "cell_type": "code",
   "execution_count": 119,
   "id": "8f7011a6-bd89-4515-9f67-1c744f9d2534",
   "metadata": {},
   "outputs": [
    {
     "name": "stdout",
     "output_type": "stream",
     "text": [
      "Linear Equation Solver: ax + b = 0\n"
     ]
    },
    {
     "name": "stdin",
     "output_type": "stream",
     "text": [
      "Enter the value of 'a':  5\n",
      "Enter the value of 'b':  6\n"
     ]
    },
    {
     "name": "stdout",
     "output_type": "stream",
     "text": [
      "Solution: x = -1.2\n"
     ]
    }
   ],
   "source": [
    "# We can define a more simple function\n",
    "\n",
    "def solve_linear_equation(a, b):\n",
    "    if a == 0:\n",
    "        if b == 0:\n",
    "            print(\"Infinite solutions: Any value of x satisfies the equation.\")\n",
    "        else:\n",
    "            print(\"No solution: The equation is inconsistent.\")\n",
    "    else:\n",
    "        x = -b / a\n",
    "        print(\"Solution: x =\", x)\n",
    "\n",
    "def main():\n",
    "    print(\"Linear Equation Solver: ax + b = 0\")\n",
    "\n",
    "    # Input coefficients 'a' and 'b'\n",
    "    a = float(input(\"Enter the value of 'a': \"))\n",
    "    b = float(input(\"Enter the value of 'b': \"))\n",
    "\n",
    "    # Solve the linear equation\n",
    "    solve_linear_equation(a, b)\n",
    "\n",
    "if __name__ == \"__main__\":\n",
    "    main()"
   ]
  },
  {
   "cell_type": "markdown",
   "id": "62d7a645-178d-48c2-923f-ef0479bb0153",
   "metadata": {},
   "source": [
    "26. Write a program that simulates a basic quiz game with multiple-choice questions and scoring."
   ]
  },
  {
   "cell_type": "code",
   "execution_count": 123,
   "id": "0e961d36-f922-4c53-be4b-a33786076f0f",
   "metadata": {
    "tags": []
   },
   "outputs": [
    {
     "name": "stdout",
     "output_type": "stream",
     "text": [
      "Welcome to the Quiz Game!\n",
      "\n",
      "You have 60 seconds to complete the quiz.\n",
      "\n",
      "Which planet is known as the Red Planet?\n",
      "1. Mars\n",
      "2. Venus\n",
      "3. Jupiter\n",
      "4. Saturn\n",
      "\n"
     ]
    },
    {
     "name": "stdin",
     "output_type": "stream",
     "text": [
      "Enter the number corresponding to your answer:  1\n"
     ]
    },
    {
     "name": "stdout",
     "output_type": "stream",
     "text": [
      "Correct!\n",
      "\n",
      "Who wrote 'Romeo and Juliet'?\n",
      "1. Charles Dickens\n",
      "2. William Shakespeare\n",
      "3. Jane Austen\n",
      "4. Mark Twain\n",
      "\n"
     ]
    },
    {
     "name": "stdin",
     "output_type": "stream",
     "text": [
      "Enter the number corresponding to your answer:  2\n"
     ]
    },
    {
     "name": "stdout",
     "output_type": "stream",
     "text": [
      "Correct!\n",
      "\n",
      "What is the value of 'acceleration due to gravity'?\n",
      "1. 10.8 m/s^2\n",
      "2. 1.8 m/s^2\n",
      "3. 8.8 m/s^2\n",
      "4. 9.8 m/s^2\n",
      "\n"
     ]
    },
    {
     "name": "stdin",
     "output_type": "stream",
     "text": [
      "Enter the number corresponding to your answer:  4\n"
     ]
    },
    {
     "name": "stdout",
     "output_type": "stream",
     "text": [
      "Correct!\n",
      "\n",
      "Who is the president of India?\n",
      "1. Narendra Modi\n",
      "2. Amit Shah\n",
      "3. Droupadi Murmu\n",
      "4. S Jaishankar\n",
      "\n"
     ]
    },
    {
     "name": "stdin",
     "output_type": "stream",
     "text": [
      "Enter the number corresponding to your answer:  3\n"
     ]
    },
    {
     "name": "stdout",
     "output_type": "stream",
     "text": [
      "Correct!\n",
      "\n",
      "\n",
      "Quiz completed!\n",
      "Your final score is: 4/4\n",
      "Total time taken: 18.72 seconds\n"
     ]
    }
   ],
   "source": [
    "def display_question(question, choices):\n",
    "    print(question)\n",
    "    for i, choice in enumerate(choices, start=1):\n",
    "        print(f\"{i}. {choice}\")\n",
    "    print()\n",
    "\n",
    "def generate_quiz():\n",
    "    questions_pool = [\n",
    "        {\n",
    "            \"question\": \"What is the capital of India?\",\n",
    "            \"choices\": [\"Berlin\", \"New Delhi\", \"Paris\", \"Rome\"],\n",
    "            \"correct_answer\": 2\n",
    "        },\n",
    "        {\n",
    "            \"question\": \"Which planet is known as the Red Planet?\",\n",
    "            \"choices\": [\"Mars\", \"Venus\", \"Jupiter\", \"Saturn\"],\n",
    "            \"correct_answer\": 1\n",
    "        },\n",
    "        {\n",
    "            \"question\": \"Who wrote 'Romeo and Juliet'?\",\n",
    "            \"choices\": [\"Charles Dickens\", \"William Shakespeare\", \"Jane Austen\", \"Mark Twain\"],\n",
    "            \"correct_answer\": 2\n",
    "        },\n",
    "        {\n",
    "            \"question\": \"Who is the president of India?\",\n",
    "            \"choices\": [\"Narendra Modi\", \"Amit Shah\", \"Droupadi Murmu\", \"S Jaishankar\"],\n",
    "            \"correct_answer\": 3\n",
    "        },\n",
    "        {\n",
    "            \"question\": \"What is the value of 'acceleration due to gravity'?\",\n",
    "            \"choices\": [\"10.8 m/s^2\", \"1.8 m/s^2\", \"8.8 m/s^2\", \"9.8 m/s^2\"],\n",
    "            \"correct_answer\": 4\n",
    "        }\n",
    "        \n",
    "    ]\n",
    "\n",
    "    return random.sample(questions_pool, 4)  # Select 3 random questions for the quiz\n",
    "\n",
    "def start_quiz():\n",
    "    quiz_questions = generate_quiz()\n",
    "    score = 0\n",
    "    total_questions = len(quiz_questions)\n",
    "    time_limit = 60  # Set a time limit for the entire quiz (in seconds)\n",
    "\n",
    "    print(\"Welcome to the Quiz Game!\\n\")\n",
    "    print(f\"You have {time_limit} seconds to complete the quiz.\\n\")\n",
    "\n",
    "    start_time = time.time()\n",
    "\n",
    "    for question_data in quiz_questions:\n",
    "        display_question(question_data[\"question\"], question_data[\"choices\"])\n",
    "\n",
    "        user_answer = None\n",
    "        while user_answer not in range(1, len(question_data[\"choices\"]) + 1):\n",
    "            try:\n",
    "                user_answer = int(input(\"Enter the number corresponding to your answer: \"))\n",
    "            except ValueError:\n",
    "                print(\"Invalid input. Please enter a number.\")\n",
    "\n",
    "        if user_answer == question_data[\"correct_answer\"]:\n",
    "            print(\"Correct!\\n\")\n",
    "            score += 1\n",
    "        else:\n",
    "            print(f\"Wrong! The correct answer was {question_data['correct_answer']}: {question_data['choices'][question_data['correct_answer'] - 1]}\\n\")\n",
    "\n",
    "    end_time = time.time()\n",
    "    elapsed_time = end_time - start_time\n",
    "\n",
    "    print(\"\\nQuiz completed!\")\n",
    "    print(f\"Your final score is: {score}/{total_questions}\")\n",
    "    print(f\"Total time taken: {elapsed_time:.2f} seconds\")\n",
    "\n",
    "    if elapsed_time > time_limit:\n",
    "        print(\"You exceeded the time limit. Quiz not counted.\")\n",
    "\n",
    "if __name__ == \"__main__\":\n",
    "    start_quiz()"
   ]
  },
  {
   "cell_type": "markdown",
   "id": "91d64a82-7a92-4010-afe8-dc3bf0654a82",
   "metadata": {},
   "source": [
    "27. Develop a program that determines whether a given year is a prime number or not."
   ]
  },
  {
   "cell_type": "code",
   "execution_count": 124,
   "id": "331ff745-5801-4049-93e4-77db7a6c76ec",
   "metadata": {},
   "outputs": [],
   "source": [
    "def is_prime_year(year):\n",
    "    if year <= 0:\n",
    "        return \"Please enter a valid year\"\n",
    "    elif year == 1:\n",
    "        return False\n",
    "    elif year == 2:\n",
    "        return True\n",
    "    else:\n",
    "        for i in range(2, int(np.sqrt(year))+1):\n",
    "            if year % i == 0:\n",
    "                return False\n",
    "        return True"
   ]
  },
  {
   "cell_type": "code",
   "execution_count": 125,
   "id": "1a41451f-570d-4006-9c9f-28d6d4f1ad7e",
   "metadata": {},
   "outputs": [
    {
     "name": "stdin",
     "output_type": "stream",
     "text": [
      "Enter the year:  123\n"
     ]
    },
    {
     "name": "stdout",
     "output_type": "stream",
     "text": [
      "The year 123 is not a prime number\n"
     ]
    }
   ],
   "source": [
    "year = int(input(\"Enter the year: \"))\n",
    "if is_prime_year(year):\n",
    "    print(f\"The year {year} is a prime number\")\n",
    "else:\n",
    "    print(f\"The year {year} is not a prime number\")"
   ]
  },
  {
   "cell_type": "markdown",
   "id": "3c3532f8-a715-4816-959b-f145bc77b47a",
   "metadata": {},
   "source": [
    "28. Create a program that sorts three numbers in ascending order using conditional statements."
   ]
  },
  {
   "cell_type": "code",
   "execution_count": null,
   "id": "a491a73f-0021-40ce-acef-6426ee2503a6",
   "metadata": {},
   "outputs": [],
   "source": [
    "def num_sort(input_list):\n",
    "    num_list = [float(num) for num in input_list.split()]\n",
    "    a, b, c = num_list\n",
    "    sorted_nums = []\n",
    "\n",
    "    if a <= b <= c:\n",
    "        sorted_nums = [a, b, c]\n",
    "    elif b <= a <= c:\n",
    "        sorted_nums = [b, a, c]\n",
    "    elif b <= c <= a:\n",
    "        sorted_nums = [b, c, a]\n",
    "    elif a <= c <= b:\n",
    "        sorted_nums = [a, c, b]\n",
    "    elif c <= b <= a:\n",
    "        sorted_nums = [c, b, a]\n",
    "    elif c <= a <= b:\n",
    "        sorted_nums = [c, a, b]\n",
    "\n",
    "    return sorted_nums\n",
    "\n",
    "input_list = input(\"Enter the three numbers separated by spaces: \")\n",
    "result = num_sort(input_list)\n",
    "print(result)"
   ]
  },
  {
   "cell_type": "markdown",
   "id": "81acf0f3-3f61-4841-82ab-9b7860ada729",
   "metadata": {},
   "source": [
    "29. Build a program that determines the roots of a quartic equation using numerical methods."
   ]
  },
  {
   "cell_type": "markdown",
   "id": "d08e1829-570c-4d5d-9dc1-bc52e1a6e335",
   "metadata": {},
   "source": [
    "* Newton's Method"
   ]
  },
  {
   "cell_type": "markdown",
   "id": "6d281c8e-162e-491e-9c52-6080fcc3b0f4",
   "metadata": {},
   "source": [
    "We write quadratic equation as $ f(x) = ax^2 + bx + c $    "
   ]
  },
  {
   "cell_type": "markdown",
   "id": "a79b05b3-b505-4142-952f-4eb95ded7aef",
   "metadata": {},
   "source": [
    "Newton's method involves iterating the formula until convergence    \n",
    "$ x_{new} = x_{old} - \\frac{f(x_{old})}{f'(x_{old})} $"
   ]
  },
  {
   "cell_type": "code",
   "execution_count": 126,
   "id": "3cc1309c-ccdb-44da-b775-2e626a61782f",
   "metadata": {},
   "outputs": [
    {
     "name": "stdin",
     "output_type": "stream",
     "text": [
      "Enter the coefficients separated by spaces:  1 4 4\n"
     ]
    },
    {
     "name": "stdout",
     "output_type": "stream",
     "text": [
      "Root 1 found: -2.0\n",
      "Root 2 found: -2.0\n"
     ]
    }
   ],
   "source": [
    "def quadratic_function(x, a, b, c):\n",
    "    return a * x**2 + b * x + c\n",
    "\n",
    "def quadratic_derivative(x, a, b):\n",
    "    return 2 * a * x + b\n",
    "\n",
    "def newton_method_quadratic(a, b, c, initial_guess, tolerance=1e-6, max_iterations=100):\n",
    "    x_old = initial_guess\n",
    "\n",
    "    for _ in range(max_iterations):\n",
    "        f_value = quadratic_function(x_old, a, b, c)\n",
    "        f_prime_value = quadratic_derivative(x_old, a, b)\n",
    "\n",
    "        if abs(f_prime_value) < tolerance:\n",
    "            break  # Avoid division by very small values\n",
    "\n",
    "        x_new = x_old - f_value / f_prime_value\n",
    "\n",
    "        if abs(x_new - x_old) < tolerance:\n",
    "            return x_new  # Convergence reached\n",
    "\n",
    "        x_old = x_new\n",
    "\n",
    "    return None  # No convergence within the given iterations\n",
    "\n",
    "# Take input of coefficients from user separated by spaces\n",
    "input_coeff = input('Enter the coefficients separated by spaces: ')\n",
    "coeff_list = [float(num) for num in input_coeff.split()]\n",
    "a, b, c = coeff_list\n",
    "\n",
    "initial_guess1 = 0  # Initial guess for the root\n",
    "initial_guess2 = 0.5\n",
    "\n",
    "root1 = newton_method_quadratic(a, b, c, initial_guess1)\n",
    "root2 = newton_method_quadratic(a, b, c, initial_guess2)\n",
    "\n",
    "if root1 is not None:\n",
    "    print(\"Root 1 found:\", np.round(root1, 2))\n",
    "else:\n",
    "    print(\"Newton's method did not converge for root 1.\")\n",
    "\n",
    "if root2 is not None:\n",
    "    print(\"Root 2 found:\", np.round(root2, 2))\n",
    "else:\n",
    "    print(\"Newton's method did not converge for root 2.\")"
   ]
  },
  {
   "cell_type": "markdown",
   "id": "59b50e9d-7491-4063-b996-dfd46dbcf65d",
   "metadata": {},
   "source": [
    "* Bisection Method"
   ]
  },
  {
   "cell_type": "code",
   "execution_count": 130,
   "id": "5b707a07-094e-41e5-8930-5c9933458795",
   "metadata": {
    "tags": []
   },
   "outputs": [
    {
     "name": "stdin",
     "output_type": "stream",
     "text": [
      "First Guess:  1\n",
      "Second Guess:  2\n",
      "Tolerable Error:  0.1\n"
     ]
    },
    {
     "name": "stdout",
     "output_type": "stream",
     "text": [
      "\n",
      "\n",
      "*** BISECTION METHOD IMPLEMENTATION ***\n",
      "Iteration-1, x2 = 1.500000 and f(x2) = 1.750000\n",
      "Iteration-2, x2 = 1.750000 and f(x2) = 2.812500\n",
      "Iteration-3, x2 = 1.875000 and f(x2) = 3.390625\n",
      "Iteration-4, x2 = 1.937500 and f(x2) = 3.691406\n",
      "Iteration-5, x2 = 1.968750 and f(x2) = 3.844727\n",
      "Iteration-6, x2 = 1.984375 and f(x2) = 3.922119\n",
      "Iteration-7, x2 = 1.992188 and f(x2) = 3.960999\n",
      "Iteration-8, x2 = 1.996094 and f(x2) = 3.980484\n",
      "Iteration-9, x2 = 1.998047 and f(x2) = 3.990238\n",
      "Iteration-10, x2 = 1.999023 and f(x2) = 3.995118\n",
      "Iteration-11, x2 = 1.999512 and f(x2) = 3.997559\n",
      "Iteration-12, x2 = 1.999756 and f(x2) = 3.998779\n",
      "Iteration-13, x2 = 1.999878 and f(x2) = 3.999390\n",
      "Iteration-14, x2 = 1.999939 and f(x2) = 3.999695\n",
      "Iteration-15, x2 = 1.999969 and f(x2) = 3.999847\n",
      "Iteration-16, x2 = 1.999985 and f(x2) = 3.999924\n",
      "Iteration-17, x2 = 1.999992 and f(x2) = 3.999962\n",
      "Iteration-18, x2 = 1.999996 and f(x2) = 3.999981\n",
      "Iteration-19, x2 = 1.999998 and f(x2) = 3.999990\n",
      "Iteration-20, x2 = 1.999999 and f(x2) = 3.999995\n",
      "Iteration-21, x2 = 2.000000 and f(x2) = 3.999998\n",
      "Iteration-22, x2 = 2.000000 and f(x2) = 3.999999\n",
      "Iteration-23, x2 = 2.000000 and f(x2) = 3.999999\n",
      "Iteration-24, x2 = 2.000000 and f(x2) = 4.000000\n",
      "Iteration-25, x2 = 2.000000 and f(x2) = 4.000000\n",
      "Iteration-26, x2 = 2.000000 and f(x2) = 4.000000\n",
      "Iteration-27, x2 = 2.000000 and f(x2) = 4.000000\n",
      "Iteration-28, x2 = 2.000000 and f(x2) = 4.000000\n",
      "Iteration-29, x2 = 2.000000 and f(x2) = 4.000000\n",
      "Iteration-30, x2 = 2.000000 and f(x2) = 4.000000\n",
      "Iteration-31, x2 = 2.000000 and f(x2) = 4.000000\n",
      "Iteration-32, x2 = 2.000000 and f(x2) = 4.000000\n",
      "Iteration-33, x2 = 2.000000 and f(x2) = 4.000000\n",
      "Iteration-34, x2 = 2.000000 and f(x2) = 4.000000\n",
      "Iteration-35, x2 = 2.000000 and f(x2) = 4.000000\n",
      "Iteration-36, x2 = 2.000000 and f(x2) = 4.000000\n",
      "Iteration-37, x2 = 2.000000 and f(x2) = 4.000000\n",
      "Iteration-38, x2 = 2.000000 and f(x2) = 4.000000\n",
      "Iteration-39, x2 = 2.000000 and f(x2) = 4.000000\n",
      "Iteration-40, x2 = 2.000000 and f(x2) = 4.000000\n",
      "Iteration-41, x2 = 2.000000 and f(x2) = 4.000000\n",
      "Iteration-42, x2 = 2.000000 and f(x2) = 4.000000\n",
      "Iteration-43, x2 = 2.000000 and f(x2) = 4.000000\n",
      "Iteration-44, x2 = 2.000000 and f(x2) = 4.000000\n",
      "Iteration-45, x2 = 2.000000 and f(x2) = 4.000000\n",
      "Iteration-46, x2 = 2.000000 and f(x2) = 4.000000\n",
      "Iteration-47, x2 = 2.000000 and f(x2) = 4.000000\n",
      "Iteration-48, x2 = 2.000000 and f(x2) = 4.000000\n",
      "Iteration-49, x2 = 2.000000 and f(x2) = 4.000000\n",
      "Iteration-50, x2 = 2.000000 and f(x2) = 4.000000\n",
      "Iteration-51, x2 = 2.000000 and f(x2) = 4.000000\n",
      "Iteration-52, x2 = 2.000000 and f(x2) = 4.000000\n",
      "Iteration-53, x2 = 2.000000 and f(x2) = 4.000000\n",
      "Iteration-54, x2 = 2.000000 and f(x2) = 4.000000\n",
      "Iteration-55, x2 = 2.000000 and f(x2) = 4.000000\n",
      "Iteration-56, x2 = 2.000000 and f(x2) = 4.000000\n",
      "Iteration-57, x2 = 2.000000 and f(x2) = 4.000000\n",
      "Iteration-58, x2 = 2.000000 and f(x2) = 4.000000\n",
      "Iteration-59, x2 = 2.000000 and f(x2) = 4.000000\n",
      "Iteration-60, x2 = 2.000000 and f(x2) = 4.000000\n",
      "Iteration-61, x2 = 2.000000 and f(x2) = 4.000000\n",
      "Iteration-62, x2 = 2.000000 and f(x2) = 4.000000\n",
      "Iteration-63, x2 = 2.000000 and f(x2) = 4.000000\n",
      "Iteration-64, x2 = 2.000000 and f(x2) = 4.000000\n",
      "Iteration-65, x2 = 2.000000 and f(x2) = 4.000000\n",
      "Iteration-66, x2 = 2.000000 and f(x2) = 4.000000\n",
      "Iteration-67, x2 = 2.000000 and f(x2) = 4.000000\n",
      "Iteration-68, x2 = 2.000000 and f(x2) = 4.000000\n",
      "Iteration-69, x2 = 2.000000 and f(x2) = 4.000000\n",
      "Iteration-70, x2 = 2.000000 and f(x2) = 4.000000\n",
      "Iteration-71, x2 = 2.000000 and f(x2) = 4.000000\n",
      "Iteration-72, x2 = 2.000000 and f(x2) = 4.000000\n",
      "Iteration-73, x2 = 2.000000 and f(x2) = 4.000000\n",
      "Iteration-74, x2 = 2.000000 and f(x2) = 4.000000\n",
      "Iteration-75, x2 = 2.000000 and f(x2) = 4.000000\n",
      "Iteration-76, x2 = 2.000000 and f(x2) = 4.000000\n",
      "Iteration-77, x2 = 2.000000 and f(x2) = 4.000000\n",
      "Iteration-78, x2 = 2.000000 and f(x2) = 4.000000\n",
      "Iteration-79, x2 = 2.000000 and f(x2) = 4.000000\n",
      "Iteration-80, x2 = 2.000000 and f(x2) = 4.000000\n",
      "Iteration-81, x2 = 2.000000 and f(x2) = 4.000000\n",
      "Iteration-82, x2 = 2.000000 and f(x2) = 4.000000\n",
      "Iteration-83, x2 = 2.000000 and f(x2) = 4.000000\n",
      "Iteration-84, x2 = 2.000000 and f(x2) = 4.000000\n",
      "Iteration-85, x2 = 2.000000 and f(x2) = 4.000000\n",
      "Iteration-86, x2 = 2.000000 and f(x2) = 4.000000\n",
      "Iteration-87, x2 = 2.000000 and f(x2) = 4.000000\n",
      "Iteration-88, x2 = 2.000000 and f(x2) = 4.000000\n",
      "Iteration-89, x2 = 2.000000 and f(x2) = 4.000000\n",
      "Iteration-90, x2 = 2.000000 and f(x2) = 4.000000\n",
      "Iteration-91, x2 = 2.000000 and f(x2) = 4.000000\n",
      "Iteration-92, x2 = 2.000000 and f(x2) = 4.000000\n",
      "Iteration-93, x2 = 2.000000 and f(x2) = 4.000000\n",
      "Iteration-94, x2 = 2.000000 and f(x2) = 4.000000\n",
      "Iteration-95, x2 = 2.000000 and f(x2) = 4.000000\n",
      "Iteration-96, x2 = 2.000000 and f(x2) = 4.000000\n",
      "Iteration-97, x2 = 2.000000 and f(x2) = 4.000000\n",
      "Iteration-98, x2 = 2.000000 and f(x2) = 4.000000\n",
      "Iteration-99, x2 = 2.000000 and f(x2) = 4.000000\n",
      "Iteration-100, x2 = 2.000000 and f(x2) = 4.000000\n",
      "\n",
      "Maximum number of iterations (100) reached. Exiting.\n"
     ]
    }
   ],
   "source": [
    "# Defining Function\n",
    "def f(x):\n",
    "    return x**2 + x - 2\n",
    "\n",
    "# Implementing Bisection Method\n",
    "def bisection(x0, x1, e, max_iterations=100):\n",
    "    step = 1\n",
    "    print('\\n\\n*** BISECTION METHOD IMPLEMENTATION ***')\n",
    "    condition = True\n",
    "    while condition and step <= max_iterations:\n",
    "        x2 = (x0 + x1) / 2\n",
    "        print('Iteration-%d, x2 = %0.6f and f(x2) = %0.6f' % (step, x2, f(x2)))\n",
    "\n",
    "        if f(x0) * f(x2) < 0:\n",
    "            x1 = x2\n",
    "        else:\n",
    "            x0 = x2\n",
    "\n",
    "        step = step + 1\n",
    "        condition = abs(f(x2)) > e\n",
    "\n",
    "    if step > max_iterations:\n",
    "        print(f\"\\nMaximum number of iterations ({max_iterations}) reached. Exiting.\")\n",
    "    else:\n",
    "        print('\\nRequired Root is : %0.8f' % x2)\n",
    "\n",
    "# Input Section\n",
    "x0 = float(input('First Guess: '))\n",
    "x1 = float(input('Second Guess: '))\n",
    "e = float(input('Tolerable Error: '))\n",
    "\n",
    "# Checking Correctness of initial guess values and bisecting\n",
    "if f(x0) * f(x1) > 0.0:\n",
    "    print('Given guess values do not bracket the root.')\n",
    "    print('Try Again with different guess values.')\n",
    "else:\n",
    "    bisection(x0, x1, e)"
   ]
  },
  {
   "cell_type": "markdown",
   "id": "b3b2f4a9-67f9-4691-8769-34d9ba63f03f",
   "metadata": {},
   "source": [
    "30. Write a program that calculates the BMI (Body Mass Index) and provides health recommendations       based on the user's input."
   ]
  },
  {
   "cell_type": "code",
   "execution_count": 132,
   "id": "3516cc20-7e18-4e72-a4e1-5193bfda226c",
   "metadata": {},
   "outputs": [
    {
     "name": "stdout",
     "output_type": "stream",
     "text": [
      "BMI Calculator\n",
      "--------------------\n"
     ]
    },
    {
     "name": "stdin",
     "output_type": "stream",
     "text": [
      "Enter your weight in kilograms:  72\n",
      "Enter your height in meters:  1.7\n"
     ]
    },
    {
     "name": "stdout",
     "output_type": "stream",
     "text": [
      "Your BMI is: 24.91\n",
      "Health Recommendation: Obese: Take steps to improve your health. Consult a healthcare professional.\n"
     ]
    }
   ],
   "source": [
    "def calculate_bmi(weight, height):\n",
    "    \"\"\"\n",
    "    Calculate BMI using weight (in kilograms) and height (in meters).\n",
    "    Formula: BMI = weight / (height ** 2)\n",
    "    \"\"\"\n",
    "    return weight / (height ** 2)\n",
    "\n",
    "def interpret_bmi(bmi):\n",
    "    \"\"\"\n",
    "    Interpret BMI and provide health recommendations.\n",
    "    \"\"\"\n",
    "    if bmi < 18.5:\n",
    "        return \"Underweight: Consider gaining weight for better health.\"\n",
    "    elif 18.5 <= bmi < 24.9:\n",
    "        return \"Normal weight: Maintain a healthy lifestyle.\"\n",
    "    elif 25 <= bmi < 29.9:\n",
    "        return \"Overweight: Consider losing weight for better health.\"\n",
    "    else:\n",
    "        return \"Obese: Take steps to improve your health. Consult a healthcare professional.\"\n",
    "\n",
    "def get_user_input():\n",
    "    \"\"\"\n",
    "    Get user input for weight and height.\n",
    "    \"\"\"\n",
    "    weight = float(input(\"Enter your weight in kilograms: \"))\n",
    "    height = float(input(\"Enter your height in meters: \"))\n",
    "    return weight, height\n",
    "\n",
    "def main():\n",
    "    print(\"BMI Calculator\")\n",
    "    print(\"--------------------\")\n",
    "\n",
    "    weight, height = get_user_input()\n",
    "\n",
    "    bmi = calculate_bmi(weight, height)\n",
    "    print(f\"Your BMI is: {bmi:.2f}\")\n",
    "\n",
    "    recommendation = interpret_bmi(bmi)\n",
    "    print(\"Health Recommendation:\", recommendation)\n",
    "\n",
    "if __name__ == \"__main__\":\n",
    "    main()"
   ]
  },
  {
   "cell_type": "markdown",
   "id": "556b9b0e-e259-454b-aa0e-1fff29cbffe2",
   "metadata": {},
   "source": [
    "# Challenge Level"
   ]
  },
  {
   "cell_type": "markdown",
   "id": "58bc8e61-d60d-43f7-806e-4fd3f9bf6f46",
   "metadata": {},
   "source": [
    "31. Create a program that validates a password based on complexity rules (length, characters, etc.)"
   ]
  },
  {
   "cell_type": "code",
   "execution_count": 134,
   "id": "3c06794c-d818-467f-82e4-c832125b023e",
   "metadata": {},
   "outputs": [
    {
     "name": "stdin",
     "output_type": "stream",
     "text": [
      "Enter the password:  computer@1234\n"
     ]
    },
    {
     "name": "stdout",
     "output_type": "stream",
     "text": [
      "Password length is 13, adding 2 points!\n",
      "password has 3 different character types, adding 2 points!\n",
      "The password is good! Score: 5 / 7\n"
     ]
    }
   ],
   "source": [
    "password = input(\"Enter the password: \")\n",
    "\n",
    "upper_case = any([1 if c in string.ascii_uppercase else 0 for c in password])\n",
    "lower_case = any([1 if c in string.ascii_lowercase else 0 for c in password])\n",
    "special = any([1 if c in string.punctuation else 0 for c in password])\n",
    "digits = any([1 if c in string.digits else 0 for c in password])\n",
    "\n",
    "characters = [upper_case, lower_case, special, digits]\n",
    "\n",
    "length = len(password)\n",
    "\n",
    "score = 0\n",
    "\n",
    "with open('indian_passwords.txt', 'r') as f:\n",
    "    common_passwords = f.read().splitlines()\n",
    "\n",
    "if password in common_passwords:\n",
    "    print('Password was found in a common list. Score: 0/7')\n",
    "    exit()\n",
    "    \n",
    "if length > 8:\n",
    "    score +=1\n",
    "if length > 12:\n",
    "    score += 1\n",
    "if length > 17:\n",
    "    score += 1\n",
    "if length > 20:\n",
    "    score += 1\n",
    "\n",
    "print(f\"Password length is {str(length)}, adding {str(score)} points!\")\n",
    "\n",
    "if sum(characters) > 1:\n",
    "    score += 1\n",
    "if sum(characters) > 2:\n",
    "    score += 1\n",
    "if sum(characters) > 2:\n",
    "    score += 1\n",
    "print(f\"password has {str(sum(characters))} different character types, adding {str(sum(characters) - 1)} points!\")\n",
    "\n",
    "if score < 4:\n",
    "    print(f\"The password is quite weak! Score: {str(score)} / 7\")\n",
    "elif score == 4:\n",
    "    print(f\"The password is ok! Score: {str(score)} / 7\")\n",
    "elif 4 < score < 6:\n",
    "    print(f\"The password is good! Score: {str(score)} / 7\")\n",
    "elif score >= 6:\n",
    "    print(f\"The password is strong! Score: {str(score)} / 7\")"
   ]
  },
  {
   "cell_type": "code",
   "execution_count": 136,
   "id": "eac6d87e-2ee9-4044-8d26-ee22de4d4f36",
   "metadata": {},
   "outputs": [
    {
     "name": "stdin",
     "output_type": "stream",
     "text": [
      "Enter your password:  Computer3123\n"
     ]
    },
    {
     "name": "stdout",
     "output_type": "stream",
     "text": [
      "Password is invalid. Please check the rules.\n"
     ]
    }
   ],
   "source": [
    "def is_special_character(char):\n",
    "    # Define your set of special characters\n",
    "    special_characters = \"!@#$%^&*()-_=+[]{}|;:'\\\",.<>/?\"\n",
    "    return char in special_characters\n",
    "\n",
    "def is_valid_password(password):\n",
    "    # Minimum length of 8 characters\n",
    "    if len(password) < 8:\n",
    "        return False\n",
    "    \n",
    "    # At least one uppercase letter\n",
    "    if not any(char.isupper() for char in password):\n",
    "        return False\n",
    "    \n",
    "    # At least one lowercase letter\n",
    "    if not any(char.islower() for char in password):\n",
    "        return False\n",
    "    \n",
    "    # At least one digit\n",
    "    if not any(char.isdigit() for char in password):\n",
    "        return False\n",
    "    \n",
    "    # At least one special character\n",
    "    if not any(is_special_character(char) for char in password):\n",
    "        return False\n",
    "    \n",
    "    return True  # if all conditions are met then passsword is valid\n",
    "\n",
    "# Take input password from user\n",
    "password_to_check = input(\"Enter your password: \")\n",
    "\n",
    "if is_valid_password(password_to_check):\n",
    "    print(\"Password is valid!\")\n",
    "else:\n",
    "    print(\"Password is invalid. Please check the rules.\")"
   ]
  },
  {
   "cell_type": "markdown",
   "id": "1c5b4933-f1b3-4d52-bb3f-c971e445eda5",
   "metadata": {},
   "source": [
    "32. Develop a program that performs matrix addition and subtraction based on user input."
   ]
  },
  {
   "cell_type": "code",
   "execution_count": 137,
   "id": "0ea05873-1c9b-4504-92f3-78c19721e7b3",
   "metadata": {},
   "outputs": [
    {
     "name": "stdout",
     "output_type": "stream",
     "text": [
      "Enter details for the first matrix:\n"
     ]
    },
    {
     "name": "stdin",
     "output_type": "stream",
     "text": [
      "Enter the number of rows:  3\n",
      "Enter the number of columns:  3\n",
      "Enter elements for row 1 separated by space:  1 2 3\n",
      "Enter elements for row 2 separated by space:  -1 5 0\n",
      "Enter elements for row 3 separated by space:  3 -5 4\n"
     ]
    },
    {
     "name": "stdout",
     "output_type": "stream",
     "text": [
      "\n",
      "Enter details for the second matrix:\n"
     ]
    },
    {
     "name": "stdin",
     "output_type": "stream",
     "text": [
      "Enter the number of rows:  3\n",
      "Enter the number of columns:  3\n",
      "Enter elements for row 1 separated by space:  8 0 -4\n",
      "Enter elements for row 2 separated by space:  2 1 5\n",
      "Enter elements for row 3 separated by space:  0 -6 10\n"
     ]
    },
    {
     "name": "stdout",
     "output_type": "stream",
     "text": [
      "\n",
      "Results:\n",
      "Sum Matrix:\n",
      "[9, 2, -1]\n",
      "[1, 6, 5]\n",
      "[3, -11, 14]\n",
      "\n",
      "\n",
      "Difference Matrix:\n",
      "[-7, 2, 7]\n",
      "[-3, 4, -5]\n",
      "[3, 1, -6]\n"
     ]
    }
   ],
   "source": [
    "# let us define a function to accept the input from the user\n",
    "def get_matrix_from_user():\n",
    "    rows = int(input(\"Enter the number of rows: \"))\n",
    "    columns = int(input(\"Enter the number of columns: \"))\n",
    "\n",
    "    matrix = []\n",
    "\n",
    "    for i in range(rows):\n",
    "        row = input(f\"Enter elements for row {i + 1} separated by space: \")\n",
    "        row_elements = [int(element) for element in row.split()]\n",
    "\n",
    "        if len(row_elements) != columns:\n",
    "            print(\"Invalid input. Please enter the correct number of elements.\")\n",
    "            return None\n",
    "\n",
    "        matrix.append(row_elements)\n",
    "\n",
    "    return matrix\n",
    "\n",
    "def add_matrices(matrix1, matrix2):\n",
    "    result = [[matrix1[i][j] + matrix2[i][j] for j in range(len(matrix1[0]))] for i in range(len(matrix1))]\n",
    "    return result\n",
    "\n",
    "def subtract_matrices(matrix1, matrix2):\n",
    "    result = [[matrix1[i][j] - matrix2[i][j] for j in range(len(matrix1[0]))] for i in range(len(matrix1))]\n",
    "    return result\n",
    "\n",
    "def print_matrix(matrix, label):\n",
    "    print(f\"{label} Matrix:\")\n",
    "    for row in matrix:\n",
    "        print(row)\n",
    "\n",
    "print(\"Enter details for the first matrix:\")\n",
    "matrix1 = get_matrix_from_user()\n",
    "\n",
    "print(\"\\nEnter details for the second matrix:\")\n",
    "matrix2 = get_matrix_from_user()\n",
    "\n",
    "if matrix1 and matrix2 and len(matrix1) == len(matrix2) and len(matrix1[0]) == len(matrix2[0]):\n",
    "    sum_matrix = add_matrices(matrix1, matrix2)\n",
    "    difference_matrix = subtract_matrices(matrix1, matrix2)\n",
    "\n",
    "    print(\"\\nResults:\")\n",
    "    print_matrix(sum_matrix, \"Sum\")\n",
    "    print(\"\\n\")\n",
    "    print_matrix(difference_matrix, \"Difference\")\n",
    "else:\n",
    "    print(\"Matrices must have the same dimensions for addition and subtraction.\")"
   ]
  },
  {
   "cell_type": "markdown",
   "id": "2c67e2b8-79cc-4db1-832c-2543327dee86",
   "metadata": {},
   "source": [
    "33. Write a program that calculates the greatest common divisor (GCD) of two numbers using the Euclidean\n",
    "algorithm."
   ]
  },
  {
   "cell_type": "code",
   "execution_count": 138,
   "id": "4c2076f3-f517-406c-acc6-482873b43b27",
   "metadata": {},
   "outputs": [
    {
     "name": "stdin",
     "output_type": "stream",
     "text": [
      "Enter the first number:  15\n",
      "Enter the second number:  80\n"
     ]
    },
    {
     "name": "stdout",
     "output_type": "stream",
     "text": [
      "The GCD of 15 and 80 is: 5\n"
     ]
    }
   ],
   "source": [
    "# Let define the function to implement Euclidean algorithm\n",
    "def euclidean_gcd(a, b):\n",
    "    while b:\n",
    "        a, b = b, a % b\n",
    "    return a\n",
    "\n",
    "def main():\n",
    "    num1 = int(input(\"Enter the first number: \"))\n",
    "    num2 = int(input(\"Enter the second number: \"))\n",
    "\n",
    "    gcd = euclidean_gcd(num1, num2)\n",
    "    print(f\"The GCD of {num1} and {num2} is: {gcd}\")\n",
    "\n",
    "if __name__ == \"__main__\":\n",
    "    main()"
   ]
  },
  {
   "cell_type": "markdown",
   "id": "a8266d7b-578d-4fc4-bd01-261e05bfd916",
   "metadata": {},
   "source": [
    "34. Build a program that performs matrix multiplication using nested loops and conditional statements."
   ]
  },
  {
   "cell_type": "code",
   "execution_count": 139,
   "id": "3e867da0-5e43-4bfc-906d-57780ad21932",
   "metadata": {
    "tags": []
   },
   "outputs": [
    {
     "name": "stdout",
     "output_type": "stream",
     "text": [
      "Enter details for the first matrix:\n"
     ]
    },
    {
     "name": "stdin",
     "output_type": "stream",
     "text": [
      "Enter the number of rows:  3\n",
      "Enter the number of columns:  2\n",
      "Enter elements for row 1 separated by space:  1 2\n",
      "Enter elements for row 2 separated by space:  -2 3\n",
      "Enter elements for row 3 separated by space:  0 1\n"
     ]
    },
    {
     "name": "stdout",
     "output_type": "stream",
     "text": [
      "\n",
      "Enter details for the second matrix:\n"
     ]
    },
    {
     "name": "stdin",
     "output_type": "stream",
     "text": [
      "Enter the number of rows:  2\n",
      "Enter the number of columns:  3\n",
      "Enter elements for row 1 separated by space:  1 -2 5\n",
      "Enter elements for row 2 separated by space:  0 0 4\n"
     ]
    },
    {
     "name": "stdout",
     "output_type": "stream",
     "text": [
      "\n",
      "Resultant Matrix after multiplication:\n",
      "[1, -2, 13]\n",
      "[-2, 4, 2]\n",
      "[0, 0, 4]\n"
     ]
    }
   ],
   "source": [
    "def get_matrix_from_user():\n",
    "    rows = int(input(\"Enter the number of rows: \"))\n",
    "    columns = int(input(\"Enter the number of columns: \"))\n",
    "\n",
    "    matrix = []\n",
    "\n",
    "    for i in range(rows):\n",
    "        row = input(f\"Enter elements for row {i + 1} separated by space: \")\n",
    "        row_elements = [int(element) for element in row.split()]\n",
    "\n",
    "        if len(row_elements) != columns:\n",
    "            print(\"Invalid input. Please enter the correct number of elements.\")\n",
    "            return None\n",
    "\n",
    "        matrix.append(row_elements)\n",
    "\n",
    "    return matrix\n",
    "\n",
    "def multiply_matrices(matrix1, matrix2):\n",
    "    result_matrix = []\n",
    "\n",
    "    if len(matrix1[0]) != len(matrix2):\n",
    "        print(\"Matrix multiplication is not possible. Number of columns in the first matrix must be equal to the number of rows in the second matrix.\")\n",
    "        return None\n",
    "\n",
    "    for i in range(len(matrix1)):\n",
    "        row_result = []\n",
    "        for j in range(len(matrix2[0])):\n",
    "            element_sum = 0\n",
    "            for k in range(len(matrix2)):\n",
    "                element_sum += matrix1[i][k] * matrix2[k][j]\n",
    "            row_result.append(element_sum)\n",
    "        result_matrix.append(row_result)\n",
    "\n",
    "    return result_matrix\n",
    "\n",
    "print(\"Enter details for the first matrix:\")\n",
    "matrix1 = get_matrix_from_user()\n",
    "\n",
    "print(\"\\nEnter details for the second matrix:\")\n",
    "matrix2 = get_matrix_from_user()\n",
    "\n",
    "if matrix1 and matrix2:\n",
    "    result = multiply_matrices(matrix1, matrix2)\n",
    "    if result:\n",
    "        print(\"\\nResultant Matrix after multiplication:\")\n",
    "        for row in result:\n",
    "            print(row)"
   ]
  },
  {
   "cell_type": "markdown",
   "id": "d3286cda-bce0-46cc-9f4e-c02c1c684f08",
   "metadata": {},
   "source": [
    "35. Create a program that simulates a basic text-based tic-tac-toe game against the computer."
   ]
  },
  {
   "cell_type": "code",
   "execution_count": 1,
   "id": "edfa3cea-3fdb-45bd-857e-47f2a389968a",
   "metadata": {
    "tags": []
   },
   "outputs": [
    {
     "name": "stdout",
     "output_type": "stream",
     "text": [
      "Welcome to Tic Tac Toe!\n",
      "  |   |  \n",
      "-----\n",
      "  |   |  \n",
      "-----\n",
      "  |   |  \n",
      "-----\n",
      "Your turn (X):\n"
     ]
    },
    {
     "name": "stdin",
     "output_type": "stream",
     "text": [
      "Enter your move (1-9):  1\n"
     ]
    },
    {
     "name": "stdout",
     "output_type": "stream",
     "text": [
      "X |   |  \n",
      "-----\n",
      "  |   |  \n",
      "-----\n",
      "  |   |  \n",
      "-----\n",
      "Computer's turn (O):\n",
      "X |   |  \n",
      "-----\n",
      "  | O |  \n",
      "-----\n",
      "  |   |  \n",
      "-----\n",
      "Your turn (X):\n"
     ]
    },
    {
     "name": "stdin",
     "output_type": "stream",
     "text": [
      "Enter your move (1-9):  3\n"
     ]
    },
    {
     "name": "stdout",
     "output_type": "stream",
     "text": [
      "X |   | X\n",
      "-----\n",
      "  | O |  \n",
      "-----\n",
      "  |   |  \n",
      "-----\n",
      "Computer's turn (O):\n",
      "X | O | X\n",
      "-----\n",
      "  | O |  \n",
      "-----\n",
      "  |   |  \n",
      "-----\n",
      "Your turn (X):\n"
     ]
    },
    {
     "name": "stdin",
     "output_type": "stream",
     "text": [
      "Enter your move (1-9):  8\n"
     ]
    },
    {
     "name": "stdout",
     "output_type": "stream",
     "text": [
      "X | O | X\n",
      "-----\n",
      "  | O |  \n",
      "-----\n",
      "  | X |  \n",
      "-----\n",
      "Computer's turn (O):\n",
      "X | O | X\n",
      "-----\n",
      "O | O |  \n",
      "-----\n",
      "  | X |  \n",
      "-----\n",
      "Your turn (X):\n"
     ]
    },
    {
     "name": "stdin",
     "output_type": "stream",
     "text": [
      "Enter your move (1-9):  6\n"
     ]
    },
    {
     "name": "stdout",
     "output_type": "stream",
     "text": [
      "X | O | X\n",
      "-----\n",
      "O | O | X\n",
      "-----\n",
      "  | X |  \n",
      "-----\n",
      "Computer's turn (O):\n",
      "X | O | X\n",
      "-----\n",
      "O | O | X\n",
      "-----\n",
      "  | X | O\n",
      "-----\n",
      "Your turn (X):\n"
     ]
    },
    {
     "name": "stdin",
     "output_type": "stream",
     "text": [
      "Enter your move (1-9):  7\n"
     ]
    },
    {
     "name": "stdout",
     "output_type": "stream",
     "text": [
      "X | O | X\n",
      "-----\n",
      "O | O | X\n",
      "-----\n",
      "X | X | O\n",
      "-----\n",
      "It's a tie!\n"
     ]
    }
   ],
   "source": [
    "# Restart kernel may be required to play the game!!\n",
    "\n",
    "def print_board(board):\n",
    "    for row in board:\n",
    "        print(\" | \".join(row))\n",
    "        print(\"-\" * 5)\n",
    "\n",
    "def check_winner(board, player):\n",
    "    for i in range(3):\n",
    "        if all(cell == player for cell in board[i]) or \\\n",
    "           all(board[j][i] == player for j in range(3)):\n",
    "            return True\n",
    "    if all(board[i][i] == player for i in range(3)) or \\\n",
    "       all(board[i][2 - i] == player for i in range(3)):\n",
    "        return True\n",
    "    return False\n",
    "\n",
    "def is_board_full(board):\n",
    "    return all(board[i][j] != ' ' for i in range(3) for j in range(3))\n",
    "\n",
    "def player_move(board):\n",
    "    while True:\n",
    "        try:\n",
    "            move = int(input(\"Enter your move (1-9): \"))\n",
    "            if 1 <= move <= 9:\n",
    "                row, col = divmod(move - 1, 3)\n",
    "                if board[row][col] == ' ':\n",
    "                    return row, col\n",
    "                else:\n",
    "                    print(\"Cell already occupied. Try again.\")\n",
    "            else:\n",
    "                print(\"Invalid input. Enter a number between 1 and 9.\")\n",
    "        except ValueError:\n",
    "            print(\"Invalid input. Enter a number between 1 and 9.\")\n",
    "\n",
    "def minimax(board, depth, is_maximizing):\n",
    "    if check_winner(board, 'O'):\n",
    "        return 1\n",
    "    elif check_winner(board, 'X'):\n",
    "        return -1\n",
    "    elif is_board_full(board):\n",
    "        return 0\n",
    "\n",
    "    if is_maximizing:\n",
    "        max_eval = float('-inf')\n",
    "        for i in range(3):\n",
    "            for j in range(3):\n",
    "                if board[i][j] == ' ':\n",
    "                    board[i][j] = 'O'\n",
    "                    score = minimax(board, depth + 1, False)\n",
    "                    board[i][j] = ' '\n",
    "                    max_eval = max(max_eval, score)\n",
    "        return max_eval\n",
    "    else:\n",
    "        min_eval = float('inf')\n",
    "        for i in range(3):\n",
    "            for j in range(3):\n",
    "                if board[i][j] == ' ':\n",
    "                    board[i][j] = 'X'\n",
    "                    score = minimax(board, depth + 1, True)\n",
    "                    board[i][j] = ' '\n",
    "                    min_eval = min(min_eval, score)\n",
    "        return min_eval\n",
    "\n",
    "def find_best_move(board):\n",
    "    best_val = float('-inf')\n",
    "    best_move = (-1, -1)\n",
    "\n",
    "    for i in range(3):\n",
    "        for j in range(3):\n",
    "            if board[i][j] == ' ':\n",
    "                board[i][j] = 'O'\n",
    "                move_val = minimax(board, 0, False)\n",
    "                board[i][j] = ' '\n",
    "\n",
    "                if move_val > best_val:\n",
    "                    best_move = (i, j)\n",
    "                    best_val = move_val\n",
    "\n",
    "    return best_move\n",
    "\n",
    "def play_tic_tac_toe():\n",
    "    board = [[' ' for _ in range(3)] for _ in range(3)]\n",
    "    player_symbol = 'X'\n",
    "    computer_symbol = 'O'\n",
    "\n",
    "    print(\"Welcome to Tic Tac Toe!\")\n",
    "\n",
    "    for _ in range(9):\n",
    "        print_board(board)\n",
    "\n",
    "        if _ % 2 == 0:\n",
    "            print(\"Your turn (X):\")\n",
    "            row, col = player_move(board)\n",
    "            board[row][col] = player_symbol\n",
    "            if check_winner(board, player_symbol):\n",
    "                print_board(board)\n",
    "                print(\"Congratulations! You win!\")\n",
    "                return\n",
    "        else:\n",
    "            print(\"Computer's turn (O):\")\n",
    "            row, col = find_best_move(board)\n",
    "            board[row][col] = computer_symbol\n",
    "            if check_winner(board, computer_symbol):\n",
    "                print_board(board)\n",
    "                print(\"Computer wins! Better luck next time.\")\n",
    "                return\n",
    "\n",
    "    print_board(board)\n",
    "    print(\"It's a tie!\")\n",
    "\n",
    "if __name__ == \"__main__\":\n",
    "    play_tic_tac_toe()"
   ]
  },
  {
   "cell_type": "code",
   "execution_count": 2,
   "id": "e2e99da3-40c3-451d-b20d-702da2f2017d",
   "metadata": {},
   "outputs": [],
   "source": [
    "# Using Tkinter\n",
    "import tkinter as tk\n",
    "from tkinter import messagebox\n",
    "import random\n",
    "\n",
    "class TicTacToe:\n",
    "    def __init__(self, master):\n",
    "        self.master = master\n",
    "        self.master.title(\"Tic Tac Toe\")\n",
    "        self.board = [[' ' for _ in range(3)] for _ in range(3)]\n",
    "        self.current_player = 'X'\n",
    "\n",
    "        # Create buttons\n",
    "        self.buttons = [[tk.Button(master, text=' ', font=('Helvetica', 24), width=4, height=2,\n",
    "                                   command=lambda row=row, col=col: self.make_move(row, col))\n",
    "                         for col in range(3)] for row in range(3)]\n",
    "\n",
    "        # Place buttons on the grid\n",
    "        for row in range(3):\n",
    "            for col in range(3):\n",
    "                self.buttons[row][col].grid(row=row, column=col)\n",
    "\n",
    "    def make_move(self, row, col):\n",
    "        if self.board[row][col] == ' ':\n",
    "            self.board[row][col] = self.current_player\n",
    "            self.buttons[row][col].config(text=self.current_player)\n",
    "            if self.check_winner():\n",
    "                messagebox.showinfo(\"Tic Tac Toe\", f\"{self.current_player} wins!\")\n",
    "                self.reset_game()\n",
    "            elif self.is_board_full():\n",
    "                messagebox.showinfo(\"Tic Tac Toe\", \"It's a tie!\")\n",
    "                self.reset_game()\n",
    "            else:\n",
    "                self.current_player = 'O' if self.current_player == 'X' else 'X'\n",
    "                if self.current_player == 'O':\n",
    "                    self.computer_move()\n",
    "\n",
    "    def computer_move(self):\n",
    "        _, (row, col) = self.minimax(self.board, 0, True)\n",
    "        self.make_move(row, col)\n",
    "\n",
    "    def minimax(self, board, depth, is_maximizing):\n",
    "        if self.check_winner():\n",
    "            return -1 if is_maximizing else 1, None\n",
    "        elif self.is_board_full():\n",
    "            return 0, None\n",
    "\n",
    "        scores = []\n",
    "        moves = []\n",
    "\n",
    "        for i in range(3):\n",
    "            for j in range(3):\n",
    "                if board[i][j] == ' ':\n",
    "                    board[i][j] = 'O' if is_maximizing else 'X'\n",
    "                    score, _ = self.minimax(board, depth + 1, not is_maximizing)\n",
    "                    board[i][j] = ' '\n",
    "\n",
    "                    scores.append(score)\n",
    "                    moves.append((i, j))\n",
    "\n",
    "        if is_maximizing:\n",
    "            max_score_index = scores.index(max(scores))\n",
    "            return scores[max_score_index], moves[max_score_index]\n",
    "        else:\n",
    "            min_score_index = scores.index(min(scores))\n",
    "            return scores[min_score_index], moves[min_score_index]\n",
    "\n",
    "    def check_winner(self):\n",
    "        for i in range(3):\n",
    "            if all(self.board[i][j] == self.current_player for j in range(3)) or \\\n",
    "               all(self.board[j][i] == self.current_player for j in range(3)):\n",
    "                return True\n",
    "        if all(self.board[i][i] == self.current_player for i in range(3)) or \\\n",
    "           all(self.board[i][2 - i] == self.current_player for i in range(3)):\n",
    "            return True\n",
    "        return False\n",
    "\n",
    "    def is_board_full(self):\n",
    "        return all(self.board[i][j] != ' ' for i in range(3) for j in range(3))\n",
    "\n",
    "    def reset_game(self):\n",
    "        self.board = [[' ' for _ in range(3)] for _ in range(3)]\n",
    "        self.current_player = 'X'\n",
    "        for row in range(3):\n",
    "            for col in range(3):\n",
    "                self.buttons[row][col].config(text=' ')\n",
    "\n",
    "if __name__ == \"__main__\":\n",
    "    root = tk.Tk()\n",
    "    game = TicTacToe(root)\n",
    "    root.mainloop()"
   ]
  },
  {
   "cell_type": "markdown",
   "id": "123238bf-38fb-4acd-99de-ef718fd22377",
   "metadata": {},
   "source": [
    "36. Write a program that generates Fibonacci numbers up to a specified term using iterative methods."
   ]
  },
  {
   "cell_type": "code",
   "execution_count": 3,
   "id": "70da98b3-993f-435f-b298-3cdd449ed3d3",
   "metadata": {
    "tags": []
   },
   "outputs": [
    {
     "name": "stdin",
     "output_type": "stream",
     "text": [
      "Enter the number of Fibonacci numbers to generate:  10\n"
     ]
    },
    {
     "name": "stdout",
     "output_type": "stream",
     "text": [
      "The first 10 Fibonacci numbers are: [0, 1, 1, 2, 3, 5, 8, 13, 21, 34]\n"
     ]
    }
   ],
   "source": [
    "def generate_fibonacci(n):\n",
    "    fibonacci_numbers = [0, 1]\n",
    "\n",
    "    for _ in range(2, n):\n",
    "        next_number = fibonacci_numbers[-1] + fibonacci_numbers[-2]\n",
    "        fibonacci_numbers.append(next_number)\n",
    "\n",
    "    return fibonacci_numbers\n",
    "\n",
    "if __name__ == \"__main__\":\n",
    "    try:\n",
    "        n = int(input(\"Enter the number of Fibonacci numbers to generate: \"))\n",
    "        if n < 0:\n",
    "            raise ValueError(\"Number of terms should be non-negative.\")\n",
    "        \n",
    "        result = generate_fibonacci(n)\n",
    "        print(f\"The first {n} Fibonacci numbers are: {result}\")\n",
    "\n",
    "    except ValueError as e:\n",
    "        print(f\"Error: {e}\")"
   ]
  },
  {
   "cell_type": "markdown",
   "id": "ca90a360-0c22-461d-b279-394d7431440a",
   "metadata": {},
   "source": [
    "37. Develop a program that calculates the nth term of the Fibonacci sequence using memoization."
   ]
  },
  {
   "cell_type": "markdown",
   "id": "35e899c3-38c8-495f-b359-75e8d9bb3364",
   "metadata": {},
   "source": [
    "* Memoization is an optimization technique used in dynamic programming to store and reuse the results of expensive function calls\n",
    "* It involves caching the results of function calls and returning the cached result when the same inputs occur again"
   ]
  },
  {
   "cell_type": "code",
   "execution_count": 4,
   "id": "bbe58bc0-aaa5-4e68-8626-c2fb6a4b0477",
   "metadata": {
    "tags": []
   },
   "outputs": [
    {
     "name": "stdin",
     "output_type": "stream",
     "text": [
      "Enter the value of n for the nth Fibonacci term:  20\n"
     ]
    },
    {
     "name": "stdout",
     "output_type": "stream",
     "text": [
      "The 20th Fibonacci number is: 6765\n"
     ]
    }
   ],
   "source": [
    "def fibonacci(n, memo={}):\n",
    "    if n in memo:\n",
    "        return memo[n]\n",
    "\n",
    "    if n == 0:\n",
    "        result = 0\n",
    "    elif n == 1:\n",
    "        result = 1\n",
    "    else:\n",
    "        result = fibonacci(n - 1, memo) + fibonacci(n - 2, memo)\n",
    "\n",
    "    memo[n] = result\n",
    "    return result\n",
    "\n",
    "if __name__ == \"__main__\":\n",
    "    try:\n",
    "        n = int(input(\"Enter the value of n for the nth Fibonacci term: \"))\n",
    "        if n < 0:\n",
    "            raise ValueError(\"n should be non-negative.\")\n",
    "\n",
    "        result = fibonacci(n)\n",
    "        print(f\"The {n}th Fibonacci number is: {result}\")\n",
    "\n",
    "    except ValueError as e:\n",
    "        print(f\"Error: {e}\")"
   ]
  },
  {
   "cell_type": "markdown",
   "id": "76048a15-9c87-4b41-ae91-ba5cc4adb2fa",
   "metadata": {},
   "source": [
    "38. Create a program that generates a calendar for a given month and year using conditional statements."
   ]
  },
  {
   "cell_type": "code",
   "execution_count": 7,
   "id": "69f5c1dc-ced2-4e5a-8a27-e18a62370f57",
   "metadata": {
    "tags": []
   },
   "outputs": [
    {
     "name": "stdin",
     "output_type": "stream",
     "text": [
      "Enter the year:  2023\n",
      "Enter the month (1-12):  12\n"
     ]
    },
    {
     "name": "stdout",
     "output_type": "stream",
     "text": [
      "\n",
      "Calendar for December 2023:\n",
      "\n",
      "   December 2023\n",
      "Mo Tu We Th Fr Sa Su\n",
      "             1  2  3\n",
      " 4  5  6  7  8  9 10\n",
      "11 12 13 14 15 16 17\n",
      "18 19 20 21 22 23 24\n",
      "25 26 27 28 29 30 31\n",
      "\n"
     ]
    }
   ],
   "source": [
    "# Using built-in Calender function\n",
    "def generate_calendar():\n",
    "    try:\n",
    "        year = int(input(\"Enter the year: \"))\n",
    "        month = int(input(\"Enter the month (1-12): \"))\n",
    "\n",
    "        if 1 <= month <= 12:\n",
    "            cal = calendar.month(year, month)\n",
    "            print(f\"\\nCalendar for {calendar.month_name[month]} {year}:\\n\")\n",
    "            print(cal)\n",
    "        else:\n",
    "            print(\"Invalid month. Please enter a number between 1 and 12.\")\n",
    "\n",
    "    except ValueError as e:\n",
    "        print(f\"Error: {e}\")\n",
    "\n",
    "if __name__ == \"__main__\":\n",
    "    generate_calendar()"
   ]
  },
  {
   "cell_type": "code",
   "execution_count": 8,
   "id": "2bfa26a2-d715-4818-8e9f-1d2f48e88e92",
   "metadata": {
    "tags": []
   },
   "outputs": [
    {
     "name": "stdin",
     "output_type": "stream",
     "text": [
      "Enter the year:  2023\n",
      "Enter the month (1-12):  12\n"
     ]
    },
    {
     "name": "stdout",
     "output_type": "stream",
     "text": [
      "\n",
      "Calendar for 12/2023:\n",
      "\n",
      "Mo  Tu  We  Th  Fr  Sa  Su\n",
      "                         1  \n",
      " 2   3   4   5   6   7   8  \n",
      " 9  10  11  12  13  14  15  \n",
      "16  17  18  19  20  21  22  \n",
      "23  24  25  26  27  28  29  \n",
      "30  31  \n"
     ]
    }
   ],
   "source": [
    "# Manually building calender \n",
    "def is_leap_year(year):\n",
    "    return (year % 4 == 0 and year % 100 != 0) or (year % 400 == 0)\n",
    "\n",
    "def get_first_day_of_month(year, month):\n",
    "    # Zeller's Congruence algorithm to find the day of the week\n",
    "    if month < 3:\n",
    "        month += 12\n",
    "        year -= 1\n",
    "    k = year % 100\n",
    "    j = year // 100\n",
    "    day_of_week = (1 + (13 * (month + 1)) // 5 + k + (k // 4) + (j // 4) - (2 * j)) % 7\n",
    "    return day_of_week\n",
    "\n",
    "def generate_calendar(year, month):\n",
    "    # Define the number of days in each month\n",
    "    days_in_month = [0, 31, 28, 31, 30, 31, 30, 31, 31, 30, 31, 30, 31]\n",
    "\n",
    "    # Adjust for leap year\n",
    "    if is_leap_year(year):\n",
    "        days_in_month[2] = 29\n",
    "\n",
    "    # Get the first day of the month\n",
    "    first_day = get_first_day_of_month(year, month)\n",
    "\n",
    "    # Print the calendar header\n",
    "    print(f\"\\nCalendar for {month}/{year}:\\n\")\n",
    "    print(\"Mo  Tu  We  Th  Fr  Sa  Su\")\n",
    "\n",
    "    # Print leading spaces\n",
    "    for _ in range(first_day):\n",
    "        print(\"   \", end=\" \")\n",
    "\n",
    "    # Print days of the month\n",
    "    for day in range(1, days_in_month[month] + 1):\n",
    "        print(f\"{day:2} \", end=\" \")\n",
    "        if (day + first_day) % 7 == 0 or day == days_in_month[month]:\n",
    "            print()\n",
    "\n",
    "if __name__ == \"__main__\":\n",
    "    try:\n",
    "        year = int(input(\"Enter the year: \"))\n",
    "        month = int(input(\"Enter the month (1-12): \"))\n",
    "\n",
    "        if 1 <= month <= 12:\n",
    "            generate_calendar(year, month)\n",
    "        else:\n",
    "            print(\"Invalid month. Please enter a number between 1 and 12.\")\n",
    "\n",
    "    except ValueError as e:\n",
    "        print(f\"Error: {e}\")"
   ]
  },
  {
   "cell_type": "markdown",
   "id": "64185d86-13b2-4233-81a5-3527db5dd8d0",
   "metadata": {},
   "source": [
    "39. Build a program that simulates a basic text-based blackjack game against the computer."
   ]
  },
  {
   "cell_type": "code",
   "execution_count": 9,
   "id": "62e2ef0b-c028-4bc3-b5ce-550492f3df43",
   "metadata": {
    "tags": []
   },
   "outputs": [
    {
     "name": "stdout",
     "output_type": "stream",
     "text": [
      "Your cards: [9, 8], current score: 17\n",
      "Computer's first card: 6\n"
     ]
    },
    {
     "name": "stdin",
     "output_type": "stream",
     "text": [
      "Type 'y' to get another card, 'n' to pass:  y\n"
     ]
    },
    {
     "name": "stdout",
     "output_type": "stream",
     "text": [
      "Your cards: [9, 8, 5], current score: 22\n",
      "Computer's first card: 6\n",
      "Your final hand: [9, 8, 5], final score: 22\n",
      "Computer's final hand: [6, 10, 10], final score: 26\n",
      "You went over. You lose.\n"
     ]
    }
   ],
   "source": [
    "def deal_card():\n",
    "    cards = [11, 2, 3, 4, 5, 6, 7, 8, 9, 10, 10, 10, 10]\n",
    "    return random.choice(cards)\n",
    "\n",
    "def calculate_score(cards):\n",
    "    if sum(cards) == 21 and len(cards) == 2:\n",
    "        return 0  # Blackjack\n",
    "    if 11 in cards and sum(cards) > 21:\n",
    "        cards.remove(11)\n",
    "        cards.append(1)\n",
    "    return sum(cards)\n",
    "\n",
    "def compare(player_score, computer_score):\n",
    "    if player_score == computer_score:\n",
    "        return \"It's a draw!\"\n",
    "    elif computer_score == 0:\n",
    "        return \"Computer has a Blackjack. You lose.\"\n",
    "    elif player_score == 0:\n",
    "        return \"You have a Blackjack! You win!\"\n",
    "    elif player_score > 21:\n",
    "        return \"You went over. You lose.\"\n",
    "    elif computer_score > 21:\n",
    "        return \"Computer went over. You win.\"\n",
    "    elif player_score > computer_score:\n",
    "        return \"You win!\"\n",
    "    else:\n",
    "        return \"You lose.\"\n",
    "\n",
    "def play_game():\n",
    "    player_cards = []\n",
    "    computer_cards = []\n",
    "    is_game_over = False\n",
    "\n",
    "    for _ in range(2):\n",
    "        player_cards.append(deal_card())\n",
    "        computer_cards.append(deal_card())\n",
    "\n",
    "    while not is_game_over:\n",
    "        player_score = calculate_score(player_cards)\n",
    "        computer_score = calculate_score(computer_cards)\n",
    "\n",
    "        print(f\"Your cards: {player_cards}, current score: {player_score}\")\n",
    "        print(f\"Computer's first card: {computer_cards[0]}\")\n",
    "\n",
    "        if player_score == 0 or computer_score == 0 or player_score > 21:\n",
    "            is_game_over = True\n",
    "        else:\n",
    "            another_card = input(\"Type 'y' to get another card, 'n' to pass: \")\n",
    "            if another_card == 'y':\n",
    "                player_cards.append(deal_card())\n",
    "            else:\n",
    "                is_game_over = True\n",
    "\n",
    "    while computer_score != 0 and computer_score < 17:\n",
    "        computer_cards.append(deal_card())\n",
    "        computer_score = calculate_score(computer_cards)\n",
    "\n",
    "    print(f\"Your final hand: {player_cards}, final score: {player_score}\")\n",
    "    print(f\"Computer's final hand: {computer_cards}, final score: {computer_score}\")\n",
    "    print(compare(player_score, computer_score))\n",
    "\n",
    "if __name__ == \"__main__\":\n",
    "    play_game()"
   ]
  },
  {
   "cell_type": "code",
   "execution_count": null,
   "id": "0b293630-405d-4fe9-9672-bde0cbcfc392",
   "metadata": {},
   "outputs": [],
   "source": []
  },
  {
   "cell_type": "code",
   "execution_count": null,
   "id": "f5f3e3db-e9cd-430f-8eb4-ead8b5c9a3df",
   "metadata": {},
   "outputs": [],
   "source": []
  },
  {
   "cell_type": "code",
   "execution_count": null,
   "id": "d7dc1f6d-c2b7-428f-a391-7f066cc4082d",
   "metadata": {},
   "outputs": [],
   "source": []
  },
  {
   "cell_type": "code",
   "execution_count": null,
   "id": "41b9631f-9b10-48ee-8d20-2a8a950d5b4b",
   "metadata": {},
   "outputs": [],
   "source": []
  },
  {
   "cell_type": "code",
   "execution_count": null,
   "id": "6a8cd9f9-3632-45f9-8646-84f1ebee4a93",
   "metadata": {},
   "outputs": [],
   "source": []
  },
  {
   "cell_type": "code",
   "execution_count": null,
   "id": "174da8b0-e669-4cd7-8894-e29a15d87990",
   "metadata": {},
   "outputs": [],
   "source": []
  },
  {
   "cell_type": "code",
   "execution_count": null,
   "id": "ec4da62d-fcb1-42d2-96ea-21fc97f98b9b",
   "metadata": {},
   "outputs": [],
   "source": []
  },
  {
   "cell_type": "code",
   "execution_count": null,
   "id": "75ad9f2e-ec16-4168-b826-798b615d0d39",
   "metadata": {},
   "outputs": [],
   "source": []
  },
  {
   "cell_type": "code",
   "execution_count": null,
   "id": "9ab05bec-8395-4039-a7c1-6a4beac1ba73",
   "metadata": {},
   "outputs": [],
   "source": []
  },
  {
   "cell_type": "code",
   "execution_count": null,
   "id": "28c4d277-5358-44a9-910f-7bf8d35368f6",
   "metadata": {},
   "outputs": [],
   "source": []
  },
  {
   "cell_type": "code",
   "execution_count": null,
   "id": "68ddccff-92d4-41f6-b176-d66686065de0",
   "metadata": {},
   "outputs": [],
   "source": []
  },
  {
   "cell_type": "code",
   "execution_count": null,
   "id": "4e69b46d-9751-45a2-acd1-aff8505a4c35",
   "metadata": {},
   "outputs": [],
   "source": []
  },
  {
   "cell_type": "code",
   "execution_count": null,
   "id": "3990fbc0-2b41-4a38-9c40-380787c641b5",
   "metadata": {},
   "outputs": [],
   "source": []
  },
  {
   "cell_type": "code",
   "execution_count": null,
   "id": "9eedcde2-4011-4803-ae73-b36e4a7df8a8",
   "metadata": {},
   "outputs": [],
   "source": []
  },
  {
   "cell_type": "code",
   "execution_count": null,
   "id": "c3b4353d-89e7-4a03-8532-be01b5ce3f08",
   "metadata": {},
   "outputs": [],
   "source": []
  },
  {
   "cell_type": "code",
   "execution_count": null,
   "id": "626132c7-5a75-426d-b99d-7327d7d7805d",
   "metadata": {},
   "outputs": [],
   "source": []
  },
  {
   "cell_type": "code",
   "execution_count": null,
   "id": "2f2c1596-ef74-43b2-869b-d791c8ba820a",
   "metadata": {},
   "outputs": [],
   "source": []
  },
  {
   "cell_type": "code",
   "execution_count": null,
   "id": "ab3480f5-5143-4b1e-b15a-e4071f1d7ad4",
   "metadata": {},
   "outputs": [],
   "source": []
  },
  {
   "cell_type": "code",
   "execution_count": null,
   "id": "4c3a1317-5092-455b-8b40-801ed3b34cd8",
   "metadata": {},
   "outputs": [],
   "source": []
  },
  {
   "cell_type": "code",
   "execution_count": null,
   "id": "30c6d67d-27e6-4002-be07-7b2629e3315b",
   "metadata": {},
   "outputs": [],
   "source": []
  },
  {
   "cell_type": "code",
   "execution_count": null,
   "id": "b3faf199-70b2-4276-9c2c-f2b7a3441370",
   "metadata": {},
   "outputs": [],
   "source": []
  },
  {
   "cell_type": "code",
   "execution_count": null,
   "id": "b99e5a14-a12e-4b6a-889a-4be9ff95cef8",
   "metadata": {},
   "outputs": [],
   "source": []
  },
  {
   "cell_type": "code",
   "execution_count": null,
   "id": "f400a7d6-e752-4d6e-bc39-6d776adf58d7",
   "metadata": {},
   "outputs": [],
   "source": []
  },
  {
   "cell_type": "code",
   "execution_count": null,
   "id": "030fbb85-7d6c-4182-ac6e-d2ae6e5e5934",
   "metadata": {},
   "outputs": [],
   "source": []
  },
  {
   "cell_type": "code",
   "execution_count": null,
   "id": "cda9e8b7-9605-4b4b-8bf6-6ba29f357e95",
   "metadata": {},
   "outputs": [],
   "source": []
  },
  {
   "cell_type": "code",
   "execution_count": null,
   "id": "46b54bc4-220d-4dda-a802-710f6f8965ac",
   "metadata": {},
   "outputs": [],
   "source": []
  },
  {
   "cell_type": "code",
   "execution_count": null,
   "id": "01dcd214-1594-4a01-8bcd-0213d007259a",
   "metadata": {},
   "outputs": [],
   "source": []
  },
  {
   "cell_type": "code",
   "execution_count": null,
   "id": "a0e99770-2c2e-4ad5-9200-c5bb8cc3a0b8",
   "metadata": {},
   "outputs": [],
   "source": []
  },
  {
   "cell_type": "code",
   "execution_count": null,
   "id": "2dc302f9-fba4-4f0f-b263-71a96f63bfc5",
   "metadata": {},
   "outputs": [],
   "source": []
  },
  {
   "cell_type": "code",
   "execution_count": null,
   "id": "729c8a7c-4c43-41ed-aafa-c5442c4b6985",
   "metadata": {},
   "outputs": [],
   "source": []
  },
  {
   "cell_type": "code",
   "execution_count": null,
   "id": "3b71dc82-1b91-47a6-915a-9f224cbca260",
   "metadata": {},
   "outputs": [],
   "source": []
  },
  {
   "cell_type": "code",
   "execution_count": null,
   "id": "2c4583f6-5006-4bf9-b9be-7761a3113531",
   "metadata": {},
   "outputs": [],
   "source": []
  },
  {
   "cell_type": "code",
   "execution_count": null,
   "id": "5540d989-5e8b-4f2a-8883-f2fe5f874ceb",
   "metadata": {},
   "outputs": [],
   "source": []
  },
  {
   "cell_type": "code",
   "execution_count": null,
   "id": "493c92c5-dcc5-4d94-97fb-9b65c1e86794",
   "metadata": {},
   "outputs": [],
   "source": []
  },
  {
   "cell_type": "code",
   "execution_count": null,
   "id": "0eed1125-7a95-49b3-be04-5f893e332a18",
   "metadata": {},
   "outputs": [],
   "source": []
  },
  {
   "cell_type": "code",
   "execution_count": null,
   "id": "6316a387-c1f0-4423-ab79-827feebe3ef1",
   "metadata": {},
   "outputs": [],
   "source": []
  },
  {
   "cell_type": "code",
   "execution_count": null,
   "id": "8dfb37db-c277-474a-87e5-8d4cf4a1fc6f",
   "metadata": {},
   "outputs": [],
   "source": []
  },
  {
   "cell_type": "code",
   "execution_count": null,
   "id": "eda65ae2-8a9d-431b-8dfa-7f17b820dae3",
   "metadata": {},
   "outputs": [],
   "source": []
  },
  {
   "cell_type": "code",
   "execution_count": null,
   "id": "c35a6d21-4ad4-4c0b-804a-cdf0fefc6fb4",
   "metadata": {},
   "outputs": [],
   "source": []
  },
  {
   "cell_type": "code",
   "execution_count": null,
   "id": "ff824693-68aa-4fbf-bb67-745bfa90d8eb",
   "metadata": {},
   "outputs": [],
   "source": []
  },
  {
   "cell_type": "code",
   "execution_count": null,
   "id": "d6b7dba1-20ce-4833-8660-d7599f9e357e",
   "metadata": {},
   "outputs": [],
   "source": []
  },
  {
   "cell_type": "code",
   "execution_count": null,
   "id": "ca659f9c-2f74-4eaf-9d74-ec7627ab48a9",
   "metadata": {},
   "outputs": [],
   "source": []
  },
  {
   "cell_type": "code",
   "execution_count": null,
   "id": "ff424196-9369-4360-9eb7-52b2b82582a4",
   "metadata": {},
   "outputs": [],
   "source": []
  }
 ],
 "metadata": {
  "kernelspec": {
   "display_name": "Python 3 (ipykernel)",
   "language": "python",
   "name": "python3"
  },
  "language_info": {
   "codemirror_mode": {
    "name": "ipython",
    "version": 3
   },
   "file_extension": ".py",
   "mimetype": "text/x-python",
   "name": "python",
   "nbconvert_exporter": "python",
   "pygments_lexer": "ipython3",
   "version": "3.11.5"
  }
 },
 "nbformat": 4,
 "nbformat_minor": 5
}
